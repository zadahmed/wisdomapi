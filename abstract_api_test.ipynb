{
 "cells": [
  {
   "cell_type": "markdown",
   "metadata": {},
   "source": [
    "### Imports"
   ]
  },
  {
   "cell_type": "code",
   "execution_count": 2,
   "metadata": {},
   "outputs": [],
   "source": [
    "import re\n",
    "import requests\n",
    "import io\n",
    "import string\n",
    "from PyPDF2 import PdfFileReader"
   ]
  },
  {
   "cell_type": "markdown",
   "metadata": {},
   "source": [
    "### Get PDF text"
   ]
  },
  {
   "cell_type": "code",
   "execution_count": 13,
   "metadata": {},
   "outputs": [],
   "source": [
    "pdfurl = \"http://arxiv.org/pdf/1811.04422v1\"\n",
    "r = requests.get(pdfurl, stream=True)\n",
    "f = io.BytesIO(r.content)\n",
    "reader = PdfFileReader(f)\n",
    "\n",
    "# Get text\n",
    "text = \"\"\n",
    "page = 0\n",
    "while True:\n",
    "    try:\n",
    "        content = reader.getPage(page).extractText()\n",
    "        text += content\n",
    "        page += 1\n",
    "    except:\n",
    "        break"
   ]
  },
  {
   "cell_type": "markdown",
   "metadata": {},
   "source": [
    "### Extract abstract"
   ]
  },
  {
   "cell_type": "code",
   "execution_count": 14,
   "metadata": {},
   "outputs": [
    {
     "name": "stdout",
     "output_type": "stream",
     "text": [
      "arXiv:1811.04422v1  [cs.LG]  11 Nov 2018AnOptimalControlViewofAdversarialMachineLearningXiaojinZhuDepartmentofComputerSciences,UniversityofWisconsin-MadisonAbstractIdescribeanoptimalcontrolviewofadversarialmachinelearning,wherethedynamicalsystemisthemachinelearner,theinputareadversarialactions,andthecontrolcostsaredenedbytheadversary'sgoalstodoharmandbehardtodetect.Thisviewencompassesmanytypesofadversarialmachinelearning,includingtest-itemattacks,training-datapoisoning,andadversarialrewardshaping.Theviewencouragesadversarialmachinelearningresearchertoutilizeadvancesincontroltheoryandreinforcementlearning.1AdversarialMachineLearningisnotMachineLearning Machinelearninghasitsmathematicalfoundationinconcentrationinequalities.Thisisaconsequenceoftheindependentandidentically-distributed(i.i.d.)dataassumption.Incontrast,Isuggestthatadversarialmachinelearningmayadoptoptimalcontrolasitsmathematicalfoundation[3,25].Therearetelltalesigns:adversarialattackstendtobesubtleandhavepeculiarnon-i.i.d.structures{ascontrolinputmightbe.2OptimalControl Iwillfocusondeterministicdiscrete-timeoptimalcontrolbecauseitmatchesmanyexistingadversarialattacks.Extensionstostochasticandcontinuouscontrolarerelevanttoadversarialmachinelearning,too.Thesystemtobecontrollediscalledtheplant,whichisdenedbythesystemdynamics:xt+1=f(xt;ut)(1)wherext2Xtisthestateofthesystem,ut2Utisthecontrolinput,andUtisthecontrolconstraintset.Thefunctionfdenestheevolutionofstateunderexternalcontrol.Thetimeindextrangesfrom0toT 1,andthetimehorizonTcanbeniteorinnite.Thequalityofcontrolisspecedbytherunningcost:gt(xt;ut)(2)whichdenesthestep-by-stepcontrolcost,andtheterminalcostfornitehorizon:gT(xT)(3)whichdenesthequalityofthenalstate.Theoptimalcontrolproblemistondcontrolinputsu0:::uT 1inordertominimizetheobjective:minu0:::uT 1gT(xT)+T 1Xt=0gt(xt;ut)(4)s.t.xt+1=f(xt;ut);ut2Ut;8tx0given1Moregenerally,thecontrolleraimstondcontrolpolicies˚t(xt)=ut,namelyfunctionsthatmapobservedstatestoinputs.Inoptimalcontrolthedynamicsfisknowntothecontroller.Therearetwostylesofsolutions:dynamicprogrammingandPontryaginminimumprinciple[2,10,17].Whenfisnotfullyknown,theproblembecomeseitherrobustcontrolwherecontroliscarriedoutinaminimaxfashiontoaccommodatetheworstcasedynamics[28],orreinforcementlearningwherethecontrollerprobesthedynamics[23].3AdversarialMachineLearningasControl Nowletustranslateadversarialmachinelearningintoacontrolformulation.Adversarialmachinelearningstudiesvulnerabilitythroughoutthelearningpipeline[4,13,20,26].Asexamples,Ipresenttraining-datapoisoning,test-timeattacks,andadversarialrewardshapingbelow.Inallcases,theadversaryattemptstocontrolthemachinelearningsystem,andthecontrolcostsreecttheadversary'sdesiretodoharmandbehardtodetect.Unfortunately,thenotationsfromthecontrolcommunityandthemachinelearningcommunityclash.Forexample,xdenotesthestateincontrolbutthefeaturevectorinmachinelearning.Iwillusethemachinelearningconventionbelow\n"
     ]
    },
    {
     "ename": "IndexError",
     "evalue": "list index out of range",
     "output_type": "error",
     "traceback": [
      "\u001b[0;31m---------------------------------------------------------------------------\u001b[0m",
      "\u001b[0;31mIndexError\u001b[0m                                Traceback (most recent call last)",
      "\u001b[0;32m<ipython-input-14-c6924c663d8f>\u001b[0m in \u001b[0;36m<module>\u001b[0;34m\u001b[0m\n\u001b[1;32m     90\u001b[0m     \u001b[0mcnt\u001b[0m \u001b[0;34m=\u001b[0m \u001b[0;36m0\u001b[0m\u001b[0;34m\u001b[0m\u001b[0;34m\u001b[0m\u001b[0m\n\u001b[1;32m     91\u001b[0m     \u001b[0;32mwhile\u001b[0m \u001b[0;32mTrue\u001b[0m\u001b[0;34m:\u001b[0m\u001b[0;34m\u001b[0m\u001b[0;34m\u001b[0m\u001b[0m\n\u001b[0;32m---> 92\u001b[0;31m         \u001b[0;32mif\u001b[0m \u001b[0mdummy2\u001b[0m\u001b[0;34m[\u001b[0m\u001b[0mcnt\u001b[0m\u001b[0;34m]\u001b[0m\u001b[0;34m.\u001b[0m\u001b[0mlower\u001b[0m\u001b[0;34m(\u001b[0m\u001b[0;34m)\u001b[0m\u001b[0;34m.\u001b[0m\u001b[0mstrip\u001b[0m\u001b[0;34m(\u001b[0m\u001b[0;34m)\u001b[0m \u001b[0;34m!=\u001b[0m \u001b[0;34m\"abstract\"\u001b[0m\u001b[0;34m:\u001b[0m\u001b[0;34m\u001b[0m\u001b[0;34m\u001b[0m\u001b[0m\n\u001b[0m\u001b[1;32m     93\u001b[0m             \u001b[0mcnt\u001b[0m \u001b[0;34m+=\u001b[0m \u001b[0;36m1\u001b[0m\u001b[0;34m\u001b[0m\u001b[0;34m\u001b[0m\u001b[0m\n\u001b[1;32m     94\u001b[0m         \u001b[0;32melse\u001b[0m\u001b[0;34m:\u001b[0m\u001b[0;34m\u001b[0m\u001b[0;34m\u001b[0m\u001b[0m\n",
      "\u001b[0;31mIndexError\u001b[0m: list index out of range"
     ]
    }
   ],
   "source": [
    "text = text.split(\"\\n\\n\")\n",
    "\n",
    "# collect abstract text\n",
    "abstract = []\n",
    "cnt = 0\n",
    "\n",
    "if \"\\n \\n\" in \" \".join(i for i in text):\n",
    "    content = []\n",
    "    for i in text:\n",
    "        for j in i.split(\"\\n \\n\"):\n",
    "            content.append(re.sub(\"\\n\", \"\", j))\n",
    "    while cnt < len(content):\n",
    "        if \"abstract\" in content[cnt].lower():\n",
    "            if \"abstract\" in content[cnt].lower() and len(text[cnt].split()) < 10:\n",
    "                cnt += 1\n",
    "            while True:\n",
    "                if \"introduction\" in content[cnt].lower():\n",
    "                    break\n",
    "                abstract.append(content[cnt])\n",
    "                cnt += 1\n",
    "            break\n",
    "        else:\n",
    "            cnt += 1\n",
    "else:\n",
    "    while cnt < len(text):\n",
    "        if \"abstract\" in text[cnt].lower():\n",
    "            if \"abstract\" in text[cnt].lower() and len(text[cnt].split()) < 10:\n",
    "                cnt += 1\n",
    "            while True:\n",
    "                if \"*\" in text[cnt] and len(text[cnt].split()) < 10:\n",
    "                    cnt += 1\n",
    "                elif len(text[cnt].split()) > 10:\n",
    "                    if \"introduction\" in text[cnt][:20].lower() or \"i ntroduction\" in text[cnt][:20].lower():\n",
    "                        break\n",
    "                    abstract.append(text[cnt])\n",
    "                    cnt +=1\n",
    "                elif len(text[cnt].split()) == 1:\n",
    "                    try:\n",
    "                        int(text[cnt])\n",
    "                    except:\n",
    "                        break\n",
    "                    break\n",
    "                else:\n",
    "                    break\n",
    "            break\n",
    "        else:\n",
    "            cnt += 1\n",
    "    if not abstract:\n",
    "        stop = 0\n",
    "        while True:\n",
    "            if \"introduction\" in text[stop].lower() and len(text[stop].split()) < 5:\n",
    "                break\n",
    "            else:\n",
    "                stop += 1\n",
    "        cnt = 0\n",
    "        while cnt < stop:\n",
    "            if text[cnt] == \" \" or len(text[cnt]) < 2:\n",
    "                if len(text[cnt+1].split()) < 10:\n",
    "                    cnt += 1\n",
    "                else:\n",
    "                    abstract.append(text[cnt+1])\n",
    "                    if text[cnt+1][-1] == \"-\" or text[cnt+1][:-1] == \"-\":\n",
    "                        while True:\n",
    "                            if text[cnt+2][0].islower():\n",
    "                                abstract.append(text[cnt+2])\n",
    "                                break\n",
    "                            else:\n",
    "                                cnt += 1\n",
    "            cnt += 1\n",
    "            \n",
    "# format abstract to present to user\n",
    "abstract_string = \"\"\n",
    "for a in abstract:\n",
    "    a = a.strip()\n",
    "    a = re.sub(\"-\\n\", \"\", a)\n",
    "    a = re.sub(\"\\n\", \" \", a)\n",
    "    if a[-1] not in string.punctuation:\n",
    "        abstract_string += a+\" \"\n",
    "    elif a[-1] == \"-\" or a[-1] == \"-\":\n",
    "        abstract_string += a[:-1]\n",
    "    elif a[-1] in string.punctuation:\n",
    "        abstract_string += a+\" \"\n",
    "# remove word 'abstract' and date at start\n",
    "if \"abstract\" in abstract_string[:8].lower():\n",
    "    abstract_string = abstract_string[8:]\n",
    "dummy1 = abstract_string.split(\". \")\n",
    "dummy2 = abstract_string.split()\n",
    "if \"abstract\" in dummy1[0].lower():\n",
    "    print(dummy1[0])\n",
    "    cnt = 0\n",
    "    while True:\n",
    "        if dummy2[cnt].lower().strip() != \"abstract\":\n",
    "            cnt += 1\n",
    "        else:\n",
    "            cnt += 1\n",
    "            break\n",
    "    abstract_string = \" \".join(word for word in dummy2[cnt:])\n",
    "if abstract_string[:1] in string.punctuation or abstract_string[:1] == \"—\":\n",
    "    abstract_string = abstract_string[1:]\n",
    "abstract_string = abstract_string.strip()\n",
    "print(\"Abstract:\\n\\n\", abstract_string)"
   ]
  },
  {
   "cell_type": "markdown",
   "metadata": {},
   "source": [
    "### Testing the function"
   ]
  },
  {
   "cell_type": "code",
   "execution_count": 3,
   "metadata": {},
   "outputs": [],
   "source": [
    "from abstractapi import abstractextracter"
   ]
  },
  {
   "cell_type": "code",
   "execution_count": 5,
   "metadata": {},
   "outputs": [
    {
     "ename": "IndexError",
     "evalue": "list index out of range",
     "output_type": "error",
     "traceback": [
      "\u001b[0;31m---------------------------------------------------------------------------\u001b[0m",
      "\u001b[0;31mIndexError\u001b[0m                                Traceback (most recent call last)",
      "\u001b[0;32m<ipython-input-5-3d3db24ee3f0>\u001b[0m in \u001b[0;36m<module>\u001b[0;34m\u001b[0m\n\u001b[0;32m----> 1\u001b[0;31m \u001b[0mabstractextracter\u001b[0m\u001b[0;34m(\u001b[0m\u001b[0;34m\"http://arxiv.org/pdf/1811.04422v1\"\u001b[0m\u001b[0;34m)\u001b[0m\u001b[0;34m\u001b[0m\u001b[0;34m\u001b[0m\u001b[0m\n\u001b[0m",
      "\u001b[0;32m~/OneDrive/Project Moonstone/Wisdom/Development/wisdomapi/wisdomapi/abstractapi.py\u001b[0m in \u001b[0;36mabstractextracter\u001b[0;34m(pdfurl)\u001b[0m\n\u001b[1;32m    113\u001b[0m         \u001b[0mcnt\u001b[0m \u001b[0;34m=\u001b[0m \u001b[0;36m0\u001b[0m\u001b[0;34m\u001b[0m\u001b[0;34m\u001b[0m\u001b[0m\n\u001b[1;32m    114\u001b[0m         \u001b[0;32mwhile\u001b[0m \u001b[0;32mTrue\u001b[0m\u001b[0;34m:\u001b[0m\u001b[0;34m\u001b[0m\u001b[0;34m\u001b[0m\u001b[0m\n\u001b[0;32m--> 115\u001b[0;31m             \u001b[0;32mif\u001b[0m \u001b[0mdummy2\u001b[0m\u001b[0;34m[\u001b[0m\u001b[0mcnt\u001b[0m\u001b[0;34m]\u001b[0m\u001b[0;34m.\u001b[0m\u001b[0mlower\u001b[0m\u001b[0;34m(\u001b[0m\u001b[0;34m)\u001b[0m\u001b[0;34m.\u001b[0m\u001b[0mstrip\u001b[0m\u001b[0;34m(\u001b[0m\u001b[0;34m)\u001b[0m \u001b[0;34m!=\u001b[0m \u001b[0;34m\"abstract\"\u001b[0m\u001b[0;34m:\u001b[0m\u001b[0;34m\u001b[0m\u001b[0;34m\u001b[0m\u001b[0m\n\u001b[0m\u001b[1;32m    116\u001b[0m                 \u001b[0mcnt\u001b[0m \u001b[0;34m+=\u001b[0m \u001b[0;36m1\u001b[0m\u001b[0;34m\u001b[0m\u001b[0;34m\u001b[0m\u001b[0m\n\u001b[1;32m    117\u001b[0m             \u001b[0;32melse\u001b[0m\u001b[0;34m:\u001b[0m\u001b[0;34m\u001b[0m\u001b[0;34m\u001b[0m\u001b[0m\n",
      "\u001b[0;31mIndexError\u001b[0m: list index out of range"
     ]
    }
   ],
   "source": [
    "abstractextracter(\"http://arxiv.org/pdf/1811.04422v1\")"
   ]
  },
  {
   "cell_type": "code",
   "execution_count": null,
   "metadata": {},
   "outputs": [],
   "source": []
  }
 ],
 "metadata": {
  "kernelspec": {
   "display_name": "Python 3",
   "language": "python",
   "name": "python3"
  },
  "language_info": {
   "codemirror_mode": {
    "name": "ipython",
    "version": 3
   },
   "file_extension": ".py",
   "mimetype": "text/x-python",
   "name": "python",
   "nbconvert_exporter": "python",
   "pygments_lexer": "ipython3",
   "version": "3.7.4"
  }
 },
 "nbformat": 4,
 "nbformat_minor": 4
}
