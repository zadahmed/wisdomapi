{
 "cells": [
  {
   "cell_type": "code",
   "execution_count": 1,
   "metadata": {},
   "outputs": [],
   "source": [
    "import textract\n",
    "import string\n",
    "import re"
   ]
  },
  {
   "cell_type": "code",
   "execution_count": 16,
   "metadata": {},
   "outputs": [],
   "source": [
    "text = textract.process(\"test3.pdf\")"
   ]
  },
  {
   "cell_type": "code",
   "execution_count": 17,
   "metadata": {},
   "outputs": [],
   "source": [
    "text = text.decode('utf-8')"
   ]
  },
  {
   "cell_type": "code",
   "execution_count": 18,
   "metadata": {},
   "outputs": [],
   "source": [
    "text = text.split(\"\\n\")"
   ]
  },
  {
   "cell_type": "code",
   "execution_count": 19,
   "metadata": {},
   "outputs": [],
   "source": [
    "abstract = []\n",
    "cnt = 0\n",
    "while cnt < len(text):\n",
    "    if \"abstract\" in text[cnt].lower():\n",
    "        if len(text[cnt+1]) == 0:\n",
    "            cnt += 2\n",
    "        elif len(text[cnt].split()) < 3:\n",
    "            cnt +=1\n",
    "        # for finding the end of the extract, usually we have '' and then a new title\n",
    "        elif len(text[cnt]) == 0 and len(text[cnt+1].split()) < 3:\n",
    "            break\n",
    "        while len(text[cnt]) > 0:\n",
    "            abstract.append(text[cnt])\n",
    "            cnt += 1\n",
    "        break\n",
    "    else:\n",
    "        cnt += 1"
   ]
  },
  {
   "cell_type": "code",
   "execution_count": 20,
   "metadata": {},
   "outputs": [
    {
     "data": {
      "text/plain": [
       "'The ability to inferring latent psychological traits from human behavior is key to developing personalized human-interacting machine learning systems. Approaches to infer such traits range from surveys to manually-constructed experiments and games. However, these traditional games are limited because they are typically designed based on heuristics. In this paper, we formulate the task of designing behavior diagnostic games that elicit distinguishable behavior as a mutual information maximization problem, which can be solved by optimizing a variational lower bound. Our framework is instantiated by using prospect theory to model varying player traits, and Markov Decision Processes to parameterize the games. We validate our approach empirically, showing that our designed games can successfully distinguish among players with different traits, outperforming manually-designed ones by a large margin.'"
      ]
     },
     "execution_count": 20,
     "metadata": {},
     "output_type": "execute_result"
    }
   ],
   "source": [
    "abstract_string = \"\"\n",
    "\n",
    "for a in abstract:\n",
    "    if a[-1] not in string.punctuation:\n",
    "        abstract_string += a+\" \"\n",
    "    elif a[-1] == \"-\" or a[-1] == \"-\":\n",
    "        abstract_string += a[:-1]\n",
    "    elif a[-1] in string.punctuation:\n",
    "        abstract_string += a+\" \"\n",
    "abstract_string = abstract_string.strip()\n",
    "\n",
    "abstract_string"
   ]
  },
  {
   "cell_type": "code",
   "execution_count": 21,
   "metadata": {},
   "outputs": [],
   "source": [
    "conclusion = []\n",
    "cnt = 0\n",
    "while cnt < len(text):\n",
    "    if \"conclusion\" in text[cnt].lower() and len(text[cnt].split()) < 10:\n",
    "        # skip over blank lines\n",
    "        if len(text[cnt+1]) == 0:\n",
    "            cnt += 2\n",
    "        # otherwise move to next line\n",
    "        else:\n",
    "            cnt +=1\n",
    "        # cleaning loop\n",
    "        while True:\n",
    "            # if there is text\n",
    "            if len(text[cnt]) > 0:\n",
    "                # if the next sentence is empty\n",
    "                if len(text[cnt+1]) == 0:\n",
    "                    # if 2 ahead is a page number\n",
    "                    if len(text[cnt+2].split()) == 1:\n",
    "                        pass\n",
    "                    elif len(text[cnt].split()) == 1:\n",
    "                        pass\n",
    "                    # if 2 ahead is a title\n",
    "                    elif len(text[cnt+2].split()) < 5:\n",
    "                        conclusion.append(text[cnt])\n",
    "                        break\n",
    "                # if the sentence is not a page number\n",
    "                if len(text[cnt]) > 3:\n",
    "                    if text[cnt].isupper():\n",
    "                        break\n",
    "                    elif \"references\" in text[cnt].lower().split()[:5]:\n",
    "                        break\n",
    "                    elif \"acknowledgement\" in text[cnt].lower():\n",
    "                        break\n",
    "                    conclusion.append(text[cnt])\n",
    "            cnt+=1\n",
    "        break\n",
    "    else:\n",
    "        cnt += 1"
   ]
  },
  {
   "cell_type": "code",
   "execution_count": 22,
   "metadata": {},
   "outputs": [
    {
     "data": {
      "text/plain": [
       "'We consider designing games for the purpose of distinguishing among different types of players. We propose a general framework and use mutual information to quantify the effectiveness. Comparing with games designed by heuristics, our optimization-based designs elicit more distinctive behaviors. Our behavior-diagnostic game design framework can be applied to various applications, with player space, game space and interaction model instantiated by domain-speciﬁc ones. For example, [22] studies how to generate games for the purpose of differentiating players using player performance instead of behavior trajectory as the observation space. In addition, we have considered the case when the player traits inferred from their game playing behavior are stationary. However, as pointed out by [26, 27, 4], there can be complex relationships between players’ in-game and outside-game personality traits. In future work, we look forward to addressing this distribution shift.'"
      ]
     },
     "execution_count": 22,
     "metadata": {},
     "output_type": "execute_result"
    }
   ],
   "source": [
    "conclusion_string = \"\"\n",
    "\n",
    "for c in conclusion:\n",
    "    if \"\\x0c\" in c:\n",
    "        text = c.split(\"\\x0c\")[1:]\n",
    "        text = \" \".join(t for t in text)\n",
    "        conclusion_string += text+\" \"\n",
    "    elif c[-1] not in string.punctuation:\n",
    "        conclusion_string += c+\" \"\n",
    "    elif c[-1] == \"-\" or c[-1] == \"-\":\n",
    "        conclusion_string += c[:-1]\n",
    "    elif c[-1] in string.punctuation:\n",
    "        conclusion_string += c+\" \"\n",
    "        \n",
    "# filter out sentences that have 'Figure' in them\n",
    "conclusion_string2 = re.sub(\"Figure\", \".|$|\", conclusion_string)\n",
    "conclusion_string2 = re.sub(\"Fig.\", \".|$|\", conclusion_string2)\n",
    "conclusion_string2 = re.sub(\"Fig\", \".|$|\", conclusion_string2)\n",
    "conclusion_string2 = re.sub(\"\\d[.]\", \"\", conclusion_string2)\n",
    "conclusion_string2 = conclusion_string2.split(\".|\")\n",
    "\n",
    "conclusion_string_final = \"\"\n",
    "\n",
    "for c in conclusion_string2:\n",
    "    if \"$|\" in c:\n",
    "        if \". \" in c:\n",
    "            text = c.split(\". \")\n",
    "            if text[1][0].islower():\n",
    "                new_text = \". \".join(t for t in text[1:]).strip()\n",
    "                conclusion_string_final += new_text+\" \"\n",
    "        else:\n",
    "            pass\n",
    "    else:\n",
    "        conclusion_string_final += c\n",
    "\n",
    "conclusion_string_final = conclusion_string_final.strip()\n",
    "conclusion_string_final"
   ]
  },
  {
   "cell_type": "code",
   "execution_count": null,
   "metadata": {},
   "outputs": [],
   "source": []
  },
  {
   "cell_type": "code",
   "execution_count": null,
   "metadata": {},
   "outputs": [],
   "source": []
  },
  {
   "cell_type": "code",
   "execution_count": null,
   "metadata": {},
   "outputs": [],
   "source": []
  },
  {
   "cell_type": "code",
   "execution_count": null,
   "metadata": {},
   "outputs": [],
   "source": []
  },
  {
   "cell_type": "code",
   "execution_count": null,
   "metadata": {},
   "outputs": [],
   "source": [
    "cnt = 0\n",
    "while cnt < len(text):\n",
    "    if \"conclusion\" in text[cnt].lower() and len(text[cnt].split()) < 10:\n",
    "        if len(text[cnt+1]) == 0:\n",
    "            cnt += 2\n",
    "        else:\n",
    "            cnt +=1\n",
    "        while True:\n",
    "            if len(text[cnt]) > 0:\n",
    "                print(text[cnt])\n",
    "                cnt += 1\n",
    "            elif len(text[cnt+1]) < 3:\n",
    "                cnt += 3\n",
    "            # for finding the end of the extract, usually we have '' and then a new title\n",
    "            elif len(text[cnt]) == 0 and len(text[cnt+1].split()) < 3:\n",
    "                break\n",
    "            else:\n",
    "                break\n",
    "        break\n",
    "    else:\n",
    "        cnt += 1"
   ]
  }
 ],
 "metadata": {
  "kernelspec": {
   "display_name": "Python 3",
   "language": "python",
   "name": "python3"
  },
  "language_info": {
   "codemirror_mode": {
    "name": "ipython",
    "version": 3
   },
   "file_extension": ".py",
   "mimetype": "text/x-python",
   "name": "python",
   "nbconvert_exporter": "python",
   "pygments_lexer": "ipython3",
   "version": "3.7.5"
  }
 },
 "nbformat": 4,
 "nbformat_minor": 4
}
