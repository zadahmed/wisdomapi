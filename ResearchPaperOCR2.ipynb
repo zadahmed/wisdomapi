{
 "cells": [
  {
   "cell_type": "code",
   "execution_count": 1,
   "metadata": {},
   "outputs": [],
   "source": [
    "import textract\n",
    "import string\n",
    "import re"
   ]
  },
  {
   "cell_type": "code",
   "execution_count": 7,
   "metadata": {},
   "outputs": [],
   "source": [
    "text = textract.process(\"test5.pdf\", method=\"tesseract\", language=\"eng\")\n",
    "#text = textract.process(\"test.pdf\")"
   ]
  },
  {
   "cell_type": "code",
   "execution_count": 9,
   "metadata": {},
   "outputs": [],
   "source": [
    "text = text.decode('utf-8')"
   ]
  },
  {
   "cell_type": "code",
   "execution_count": 10,
   "metadata": {},
   "outputs": [],
   "source": [
    "text = text.split(\"\\n\\n\")"
   ]
  },
  {
   "cell_type": "code",
   "execution_count": 12,
   "metadata": {},
   "outputs": [],
   "source": [
    "abstract = []\n",
    "cnt = 0\n",
    "while cnt < len(text):\n",
    "    if \"abstract\" in text[cnt].lower():\n",
    "        if \"abstract\" in text[cnt].lower() and len(text[cnt].split()) < 10:\n",
    "            cnt += 1\n",
    "        while True:\n",
    "            if \"*\" in text[cnt] and len(text[cnt].split()) < 10:\n",
    "                cnt += 1\n",
    "            elif len(text[cnt].split()) > 10:\n",
    "                abstract.append(text[cnt])\n",
    "                cnt +=1\n",
    "            elif len(text[cnt].split()) == 1:\n",
    "                try:\n",
    "                    int(text[cnt])\n",
    "                except:\n",
    "                    break\n",
    "                break\n",
    "            else:\n",
    "                break\n",
    "        break\n",
    "    else:\n",
    "        cnt += 1"
   ]
  },
  {
   "cell_type": "code",
   "execution_count": 13,
   "metadata": {},
   "outputs": [
    {
     "data": {
      "text/plain": [
       "'We determine the main properties of the Galactic binary black hole (BBH) population detectable by LISA and strategies to distinguish them from the much more numerous white dwarf binaries. We simulate BBH populations based on cosmological simulations of Milky Way-like galaxies and binary evolution models. We then determine their gravitational wave emission as observed by LISA and build mock catalogs. According to our model LISA will detect ~ 4(6) binary black holes assuming 4(10) years of operations. Those figures grow to ~ 6(9) when models are re-normalized to the inferred LIGO/Virgo merger rates. About 40%(70%) of the sources will have a good enough chirp mass measurement to separate them from the much lighter white dwarf and neutron star binaries. Most of the remaining sources should be identifiable by their lack of electromagnetic counterpart within ~ 100 pc. These results are robust with respect to the current uncertainties of the BBH merger rate as measured by LIGO/Virgo as well as the global mass spectrum of the binaries. We determine there is a 94 per cent chance that LISA finds at least one of these systems, which will allow us to pinpoint the conditions where they were formed and possibly find unique electromagnetic signatures.'"
      ]
     },
     "execution_count": 13,
     "metadata": {},
     "output_type": "execute_result"
    }
   ],
   "source": [
    "abstract_string = \"\"\n",
    "\n",
    "for a in abstract:\n",
    "    a = re.sub(\"-\\n\", \"\", a)\n",
    "    a = re.sub(\"\\n\", \" \", a)\n",
    "    if a[-1] not in string.punctuation:\n",
    "        abstract_string += a+\" \"\n",
    "    elif a[-1] == \"-\" or a[-1] == \"-\":\n",
    "        abstract_string += a[:-1]\n",
    "    elif a[-1] in string.punctuation:\n",
    "        abstract_string += a+\" \"\n",
    "\n",
    "if \"abstract\" in abstract_string[:8].lower():\n",
    "    abstract_string = abstract_string[8:]\n",
    "if abstract_string[:1] in string.punctuation or abstract_string[:1] == \"—\":\n",
    "    abstract_string = abstract_string[1:]\n",
    "\n",
    "abstract_string = abstract_string.strip()\n",
    "\n",
    "abstract_string"
   ]
  },
  {
   "cell_type": "code",
   "execution_count": 14,
   "metadata": {},
   "outputs": [],
   "source": [
    "conclusion = []\n",
    "summary = []\n",
    "cnt = 0\n",
    "while cnt < len(text):\n",
    "    if \"conclusion\" in text[cnt].lower() and len(text[cnt].split()) < 10 or \". Conclusion\" in text[cnt]:\n",
    "        cnt +=1\n",
    "        # cleaning loop\n",
    "        while True:\n",
    "            # if there is text\n",
    "            if len(text[cnt]) > 0:\n",
    "                # if the next sentence is empty\n",
    "                if len(text[cnt+1]) == 0:\n",
    "                    # if 2 ahead is a page number\n",
    "                    if len(text[cnt+2].split()) == 1:\n",
    "                        pass\n",
    "                    elif len(text[cnt].split()) == 1:\n",
    "                        pass\n",
    "                    # if 2 ahead is a title\n",
    "                    elif len(text[cnt+2].split()) < 5:\n",
    "                        conclusion.append(text[cnt])\n",
    "                        break\n",
    "                # if the sentence is not a page number\n",
    "                if len(text[cnt]) > 3:\n",
    "                    #if text[cnt].isupper():\n",
    "                    #    break\n",
    "                    if \"references\" in text[cnt].lower().split()[:5]:\n",
    "                        break\n",
    "                    elif \"acknowledgement\" in text[cnt].lower():\n",
    "                        break\n",
    "                    conclusion.append(text[cnt])\n",
    "            cnt+=1\n",
    "        break\n",
    "    else:\n",
    "        cnt += 1"
   ]
  },
  {
   "cell_type": "code",
   "execution_count": 15,
   "metadata": {},
   "outputs": [
    {
     "data": {
      "text/plain": [
       "'We base our study on the BBHs found in the three MW equivalent galaxies, which have a BBH merger rate ~ 8 x 10-6yr“!. Assuming a MW-equivalent volume density of 005 Mpe~> (Tomezak et al. 2014), this results in a BBH merger rate at z = 0 of 40 yr! Gpe™3, which is con: tent with the measured LIGO-Virgo rate of 53*38yr-! Gpe (Abbott et al. 2019b). To fold into our calculation the uncertanties in the measured BBH rate, we convolve the distribution of expected detections with the posterior distribution of the LIGO/Virgo merger rate.'"
      ]
     },
     "execution_count": 15,
     "metadata": {},
     "output_type": "execute_result"
    }
   ],
   "source": [
    "conclusion_string = \"\"\n",
    "\n",
    "for c in conclusion:\n",
    "    c = re.sub(\"-\\n\", \"\", c)\n",
    "    c = re.sub(\"\\n\", \" \", c)\n",
    "    if \"\\x0c\" in c:\n",
    "        text = c.split(\"\\x0c\")[1:]\n",
    "        text = \" \".join(t for t in text)\n",
    "        conclusion_string += text+\" \"\n",
    "    elif c[-1] not in string.punctuation:\n",
    "        conclusion_string += c+\" \"\n",
    "    elif c[-1] == \"-\" or c[-1] == \"-\":\n",
    "        conclusion_string += c[:-1]\n",
    "    elif c[-1] in string.punctuation:\n",
    "        conclusion_string += c+\" \"\n",
    "        \n",
    "# filter out sentences that have 'Figure' in them\n",
    "conclusion_string2 = re.sub(\"Figure\", \".|$|\", conclusion_string)\n",
    "conclusion_string2 = re.sub(\"Fig.\", \".|$|\", conclusion_string2)\n",
    "conclusion_string2 = re.sub(\"Fig\", \".|$|\", conclusion_string2)\n",
    "conclusion_string2 = re.sub(\"\\d[.]\", \"\", conclusion_string2)\n",
    "conclusion_string2 = conclusion_string2.split(\".|\")\n",
    "\n",
    "conclusion_string_final = \"\"\n",
    "\n",
    "for c in conclusion_string2:\n",
    "    if \"$|\" in c:\n",
    "        if \". \" in c:\n",
    "            text = c.split(\". \")\n",
    "            if text[1][0].islower():\n",
    "                new_text = \". \".join(t for t in text[1:]).strip()\n",
    "                conclusion_string_final += new_text+\" \"\n",
    "        else:\n",
    "            pass\n",
    "    else:\n",
    "        conclusion_string_final += c\n",
    "\n",
    "conclusion_string_final = conclusion_string_final.strip()\n",
    "conclusion_string_final"
   ]
  },
  {
   "cell_type": "code",
   "execution_count": null,
   "metadata": {},
   "outputs": [],
   "source": []
  },
  {
   "cell_type": "code",
   "execution_count": null,
   "metadata": {},
   "outputs": [],
   "source": []
  }
 ],
 "metadata": {
  "kernelspec": {
   "display_name": "Python 3",
   "language": "python",
   "name": "python3"
  },
  "language_info": {
   "codemirror_mode": {
    "name": "ipython",
    "version": 3
   },
   "file_extension": ".py",
   "mimetype": "text/x-python",
   "name": "python",
   "nbconvert_exporter": "python",
   "pygments_lexer": "ipython3",
   "version": "3.7.5"
  }
 },
 "nbformat": 4,
 "nbformat_minor": 4
}
