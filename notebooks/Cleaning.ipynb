{
 "cells": [
  {
   "cell_type": "code",
   "execution_count": null,
   "metadata": {},
   "outputs": [],
   "source": [
    "import pdfplumber\n",
    "import pdfminer\n",
    "import requests\n",
    "import io\n",
    "from pdfminer.pdfinterp import PDFResourceManager, PDFPageInterpreter\n",
    "from pdfminer.converter import TextConverter\n",
    "from pdfminer.layout import LAParams\n",
    "from pdfminer.pdfpage import PDFPage\n",
    "from collections import Counter\n",
    "import operator"
   ]
  },
  {
   "cell_type": "code",
   "execution_count": null,
   "metadata": {},
   "outputs": [],
   "source": [
    "r = requests.get(pdfurl, stream=True)\n",
    "f = io.BytesIO(r.content)\n",
    "# set up pdfminer\n",
    "rsrcmgr = PDFResourceManager()\n",
    "retstr = io.StringIO()\n",
    "codec = 'utf-8'\n",
    "laparams = LAParams()\n",
    "device = TextConverter(rsrcmgr, retstr, codec=codec, laparams=laparams)\n",
    "interpreter = PDFPageInterpreter(rsrcmgr, device)\n",
    "pagenos=set()\n",
    "# extract all text\n",
    "content = []\n",
    "for page in PDFPage.get_pages(fp=f, pagenos=pagenos, maxpages=0, caching=True, check_extractable=True):\n",
    "    interpreter.process_page(page)\n",
    "text = retstr.getvalue()\n",
    "content.append(text)\n",
    "# close apps\n",
    "device.close()\n",
    "retstr.close()"
   ]
  },
  {
   "cell_type": "code",
   "execution_count": null,
   "metadata": {},
   "outputs": [],
   "source": [
    "link = \"https://arxiv.org/pdf/2002.07646.pdf\"\n",
    "\n",
    "r = requests.get(link, stream=True)\n",
    "f = io.BytesIO(r.content)"
   ]
  },
  {
   "cell_type": "code",
   "execution_count": null,
   "metadata": {},
   "outputs": [],
   "source": [
    "data = pdfplumber.load(f)"
   ]
  },
  {
   "cell_type": "code",
   "execution_count": null,
   "metadata": {},
   "outputs": [],
   "source": [
    "data.metadata"
   ]
  },
  {
   "cell_type": "code",
   "execution_count": null,
   "metadata": {},
   "outputs": [],
   "source": [
    "fontsize = []\n",
    "for page in data.pages:\n",
    "    for c in page.chars:\n",
    "        if c.get('size') not in fontsize:\n",
    "            fontsize.append(c.get('size'))"
   ]
  },
  {
   "cell_type": "code",
   "execution_count": null,
   "metadata": {},
   "outputs": [],
   "source": [
    "sizes = dict(Counter(fontsize))"
   ]
  },
  {
   "cell_type": "code",
   "execution_count": null,
   "metadata": {},
   "outputs": [],
   "source": [
    "size = max(sizes.items(), key=operator.itemgetter(1))[0]"
   ]
  },
  {
   "cell_type": "code",
   "execution_count": null,
   "metadata": {},
   "outputs": [],
   "source": [
    "text = \"\"\n",
    "for page in data.pages:\n",
    "    for char in page.chars:\n",
    "        if char.get('upright') == 1:\n",
    "            #print(char.get('size'), char.get('upright'), char.get('text'))\n",
    "            text += char.get('text')"
   ]
  },
  {
   "cell_type": "code",
   "execution_count": null,
   "metadata": {},
   "outputs": [],
   "source": [
    "link = \"https://arxiv.org/pdf/2002.06770.pdf\"\n",
    "\n",
    "data.metadata"
   ]
  },
  {
   "cell_type": "code",
   "execution_count": null,
   "metadata": {},
   "outputs": [],
   "source": [
    "link = \"https://arxiv.org/pdf/2002.06775.pdf\"\n",
    "\n",
    "data.metadata"
   ]
  },
  {
   "cell_type": "code",
   "execution_count": null,
   "metadata": {},
   "outputs": [],
   "source": [
    "data.metadata"
   ]
  },
  {
   "cell_type": "code",
   "execution_count": null,
   "metadata": {},
   "outputs": [],
   "source": [
    "link = \"https://arxiv.org/pdf/2002.07701.pdf\"\n",
    "\n",
    "data.metadata"
   ]
  },
  {
   "cell_type": "code",
   "execution_count": null,
   "metadata": {},
   "outputs": [],
   "source": [
    "thing = []\n",
    "for i in data.pages[0].chars:\n",
    "    if i.get('upright') == 0:\n",
    "        print(i, \"\\n\")"
   ]
  },
  {
   "cell_type": "code",
   "execution_count": null,
   "metadata": {},
   "outputs": [],
   "source": [
    "data.metadata"
   ]
  },
  {
   "cell_type": "code",
   "execution_count": null,
   "metadata": {},
   "outputs": [],
   "source": [
    "data.metadata"
   ]
  },
  {
   "cell_type": "code",
   "execution_count": null,
   "metadata": {},
   "outputs": [],
   "source": [
    "data.metadata"
   ]
  },
  {
   "cell_type": "code",
   "execution_count": null,
   "metadata": {},
   "outputs": [],
   "source": [
    "data.metadata"
   ]
  },
  {
   "cell_type": "code",
   "execution_count": null,
   "metadata": {},
   "outputs": [],
   "source": []
  },
  {
   "cell_type": "code",
   "execution_count": null,
   "metadata": {},
   "outputs": [],
   "source": []
  },
  {
   "cell_type": "code",
   "execution_count": null,
   "metadata": {},
   "outputs": [],
   "source": []
  },
  {
   "cell_type": "code",
   "execution_count": null,
   "metadata": {},
   "outputs": [],
   "source": []
  },
  {
   "cell_type": "code",
   "execution_count": null,
   "metadata": {},
   "outputs": [],
   "source": []
  },
  {
   "cell_type": "code",
   "execution_count": null,
   "metadata": {},
   "outputs": [],
   "source": []
  },
  {
   "cell_type": "code",
   "execution_count": 110,
   "metadata": {},
   "outputs": [],
   "source": [
    "import pdfquery\n",
    "import re\n",
    "from textblob import TextBlob\n",
    "import requests\n",
    "import io\n",
    "import string"
   ]
  },
  {
   "cell_type": "code",
   "execution_count": 2,
   "metadata": {},
   "outputs": [],
   "source": [
    "link = \"https://arxiv.org/pdf/2002.07797.pdf\"\n",
    "\n",
    "r = requests.get(link, stream=True)\n",
    "f = io.BytesIO(r.content)"
   ]
  },
  {
   "cell_type": "code",
   "execution_count": 3,
   "metadata": {},
   "outputs": [],
   "source": [
    "data = pdfquery.PDFQuery(f)"
   ]
  },
  {
   "cell_type": "code",
   "execution_count": 4,
   "metadata": {},
   "outputs": [],
   "source": [
    "data.load()"
   ]
  },
  {
   "cell_type": "code",
   "execution_count": 5,
   "metadata": {},
   "outputs": [
    {
     "data": {
      "text/plain": [
       "{'Type': /'Catalog',\n",
       " 'Names': <PDFObjRef:783>,\n",
       " 'OpenAction': <PDFObjRef:54>,\n",
       " 'Outlines': <PDFObjRef:752>,\n",
       " 'PageMode': /'UseOutlines',\n",
       " 'Pages': <PDFObjRef:751>}"
      ]
     },
     "execution_count": 5,
     "metadata": {},
     "output_type": "execute_result"
    }
   ],
   "source": [
    "data.doc.catalog"
   ]
  },
  {
   "cell_type": "code",
   "execution_count": 6,
   "metadata": {},
   "outputs": [],
   "source": [
    "#data.tree.write(\"test2.xml\", pretty_print=True, encoding=\"utf-8\")"
   ]
  },
  {
   "cell_type": "code",
   "execution_count": 200,
   "metadata": {},
   "outputs": [],
   "source": [
    "corpus = []\n",
    "for text in data.pq(\"LTTextLineHorizontal\"):\n",
    "    thing = str(text.layout)\n",
    "    idx = thing.find(\"'\")\n",
    "    thing = thing[idx+1:-2]\n",
    "    corpus.append(thing)"
   ]
  },
  {
   "cell_type": "code",
   "execution_count": 201,
   "metadata": {},
   "outputs": [],
   "source": [
    "final_text = \" \".join(i for i in corpus)"
   ]
  },
  {
   "cell_type": "code",
   "execution_count": 238,
   "metadata": {},
   "outputs": [],
   "source": [
    "avoid = \"§‡¶@∗\"\n",
    "symbols = \"ΔΩπϴλθ°îĵk̂ûαβγδεζηθικλμνξοπρςστυφχψωΓΔΘΛΞΠΣΦΨΩϴ≤=∂γβα∈\"\n",
    "math = \"≥∞<≤√=>+×\""
   ]
  },
  {
   "cell_type": "code",
   "execution_count": 203,
   "metadata": {},
   "outputs": [],
   "source": [
    "#import string\n",
    "\n",
    "#string.ascii_letters"
   ]
  },
  {
   "cell_type": "code",
   "execution_count": 204,
   "metadata": {},
   "outputs": [],
   "source": [
    "#final_text = final_text.replace(\"\\\\n\", \"\")"
   ]
  },
  {
   "cell_type": "code",
   "execution_count": 205,
   "metadata": {},
   "outputs": [],
   "source": [
    "#if re.search(\"\\d\\.\\d\", c):\n",
    "#    text = re.sub(\"\\.\", \"~||~\", s)"
   ]
  },
  {
   "cell_type": "code",
   "execution_count": 206,
   "metadata": {},
   "outputs": [],
   "source": [
    "#final_text = re.sub(\"\\[\\d\\]\", \"\", final_text)\n",
    "final_text = re.sub(\"al.\", \"al\", final_text)\n",
    "final_text = re.sub(\"\\(cid:\\d\\d\\d\\)\", \"\", final_text)\n",
    "final_text = re.sub(\"\\(cid:\\d\\d\\)\", \"\", final_text)\n",
    "final_text = re.sub(\"\\(cid:\\d\\)\", \"\", final_text)"
   ]
  },
  {
   "cell_type": "code",
   "execution_count": 207,
   "metadata": {},
   "outputs": [],
   "source": [
    "blob = TextBlob(final_text)\n",
    "sentences = [str(sentence) for sentence in blob.sentences]"
   ]
  },
  {
   "cell_type": "code",
   "execution_count": 208,
   "metadata": {},
   "outputs": [],
   "source": [
    "sentences = [s for s in sentences if len(s)>1]"
   ]
  },
  {
   "cell_type": "code",
   "execution_count": 213,
   "metadata": {},
   "outputs": [
    {
     "data": {
      "text/plain": [
       "320"
      ]
     },
     "execution_count": 213,
     "metadata": {},
     "output_type": "execute_result"
    }
   ],
   "source": [
    "len(sentences)"
   ]
  },
  {
   "cell_type": "code",
   "execution_count": 211,
   "metadata": {},
   "outputs": [],
   "source": [
    "idx = 0\n",
    "cnt = 0\n",
    "for sent in sentences:\n",
    "    if \"References\" in sent or \"Appendix\" in sent or \"Bibliography\" in sent or \"REFERENCES\" in sent or \"acknowledgements\" in sent or \"ACKNOWLEDGEMENTS\" in sent:\n",
    "        idx = cnt\n",
    "    else:\n",
    "        cnt += 1"
   ]
  },
  {
   "cell_type": "code",
   "execution_count": 212,
   "metadata": {},
   "outputs": [],
   "source": [
    "if idx > 0:\n",
    "    sentences = sentences[:idx]"
   ]
  },
  {
   "cell_type": "code",
   "execution_count": 214,
   "metadata": {},
   "outputs": [],
   "source": [
    "sentences = [s for s in sentences if not re.search('Fig', s)]"
   ]
  },
  {
   "cell_type": "code",
   "execution_count": 215,
   "metadata": {},
   "outputs": [],
   "source": [
    "sentences = [s for s in sentences if len(s)>15]"
   ]
  },
  {
   "cell_type": "code",
   "execution_count": 216,
   "metadata": {},
   "outputs": [],
   "source": [
    "no_symbols = []\n",
    "cnt = 0\n",
    "while cnt < len(sentences):\n",
    "    counter = 0\n",
    "    for symbol in symbols:\n",
    "        if symbol in sentences[cnt]:\n",
    "            counter += 1\n",
    "            break\n",
    "    if counter == 0:\n",
    "        no_symbols.append(sentences[cnt])\n",
    "    cnt += 1"
   ]
  },
  {
   "cell_type": "code",
   "execution_count": 217,
   "metadata": {},
   "outputs": [],
   "source": [
    "no_math = []\n",
    "cnt = 0\n",
    "while cnt < len(no_symbols):\n",
    "    counter = 0\n",
    "    for m in math:\n",
    "        if m in no_symbols[cnt]:\n",
    "            counter += 1\n",
    "            break\n",
    "    if counter == 0:\n",
    "        no_math.append(no_symbols[cnt])\n",
    "    cnt += 1"
   ]
  },
  {
   "cell_type": "code",
   "execution_count": 218,
   "metadata": {},
   "outputs": [],
   "source": [
    "no_avoid = []\n",
    "cnt = 0\n",
    "while cnt < len(no_math):\n",
    "    counter = 0\n",
    "    for n in avoid:\n",
    "        if n in no_math[cnt]:\n",
    "            counter += 1\n",
    "            break\n",
    "    if counter == 0:\n",
    "        no_avoid.append(no_math[cnt])\n",
    "    cnt += 1"
   ]
  },
  {
   "cell_type": "code",
   "execution_count": 219,
   "metadata": {},
   "outputs": [
    {
     "data": {
      "text/plain": [
       "76"
      ]
     },
     "execution_count": 219,
     "metadata": {},
     "output_type": "execute_result"
    }
   ],
   "source": [
    "len(no_avoid)"
   ]
  },
  {
   "cell_type": "code",
   "execution_count": 220,
   "metadata": {},
   "outputs": [],
   "source": [
    "sentences = [s for s in no_avoid if len(s.split())>10]"
   ]
  },
  {
   "cell_type": "code",
   "execution_count": 222,
   "metadata": {},
   "outputs": [],
   "source": [
    "sentences = [s for s in sentences if s[0].isupper() or s[0] in string.digits]"
   ]
  },
  {
   "cell_type": "code",
   "execution_count": 223,
   "metadata": {},
   "outputs": [],
   "source": [
    "sentences = [s for s in sentences if s[-2:] != \" .\"]"
   ]
  },
  {
   "cell_type": "code",
   "execution_count": 233,
   "metadata": {},
   "outputs": [],
   "source": [
    "sentences = [s.replace(\"\\\\n\", \"\") for s in sentences]"
   ]
  },
  {
   "cell_type": "code",
   "execution_count": 239,
   "metadata": {},
   "outputs": [],
   "source": [
    "import os, sys, inspect\n",
    "currentdir = os.path.dirname(os.path.abspath(inspect.getfile(inspect.currentframe())))\n",
    "parentdir = os.path.dirname(currentdir)\n",
    "sys.path.insert(0,parentdir) \n",
    "\n",
    "from wisdomaiengine import summarisepdfdocument"
   ]
  },
  {
   "cell_type": "code",
   "execution_count": 241,
   "metadata": {},
   "outputs": [],
   "source": [
    "clean_text = \" \".join(s for s in sentences)"
   ]
  },
  {
   "cell_type": "code",
   "execution_count": 243,
   "metadata": {},
   "outputs": [
    {
     "data": {
      "text/plain": [
       "['• The objective is to minimize the worst case expected detection time, relative to the distance of the hidden item to the origin.',\n",
       " '• A more tedious argument (and one of our technicaln contributions), as in the cow-path problem, shows that the aforementioned choice of geometricaly increasing xi’s for FSp is in fact optimalamong the family of monotone alorithms.',\n",
       " '• Given a robot’s trajectory T , probability p and distance d, the termination time ET (d) is deﬁned as the expected time that the robot detects the treasure for the ﬁrst time.',\n",
       " '• Somewhat surprisingly we show in Section 4 that the upper bound of Theorem 3.1 is in fact sub-optimal 3.1 An Upper Bound Using Monotone Trajectories In this section we propose a speciﬁc monotone alorithm with the performance promised by Theorem 3.1.',\n",
       " '• The vale of 3 is provably a lower bound to any search strategy since the searcher has to return at least once close to the origin before attempting for a second time an expansion of the searched space.']"
      ]
     },
     "execution_count": 243,
     "metadata": {},
     "output_type": "execute_result"
    }
   ],
   "source": [
    "summarisepdfdocument(clean_text)"
   ]
  },
  {
   "cell_type": "code",
   "execution_count": null,
   "metadata": {},
   "outputs": [],
   "source": []
  }
 ],
 "metadata": {
  "kernelspec": {
   "display_name": "Python 3",
   "language": "python",
   "name": "python3"
  },
  "language_info": {
   "codemirror_mode": {
    "name": "ipython",
    "version": 3
   },
   "file_extension": ".py",
   "mimetype": "text/x-python",
   "name": "python",
   "nbconvert_exporter": "python",
   "pygments_lexer": "ipython3",
   "version": "3.7.6"
  }
 },
 "nbformat": 4,
 "nbformat_minor": 4
}
