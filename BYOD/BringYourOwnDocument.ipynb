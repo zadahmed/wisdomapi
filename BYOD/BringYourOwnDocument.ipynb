{
 "cells": [
  {
   "cell_type": "code",
   "execution_count": 1,
   "metadata": {},
   "outputs": [],
   "source": [
    "# import the necessary packages\n",
    "from transform import four_point_transform\n",
    "from skimage.filters import threshold_local\n",
    "import numpy as np\n",
    "import argparse\n",
    "import cv2\n",
    "import imutils\n",
    "import matplotlib.pyplot as plt"
   ]
  },
  {
   "cell_type": "markdown",
   "metadata": {},
   "source": [
    "### Edge Detection"
   ]
  },
  {
   "cell_type": "code",
   "execution_count": null,
   "metadata": {},
   "outputs": [],
   "source": [
    "# load the image and compute the ratio of the old height\n",
    "# to the new height, clone it, and resize it\n",
    "image = cv2.imread(\"page4.jpg\")"
   ]
  },
  {
   "cell_type": "code",
   "execution_count": null,
   "metadata": {},
   "outputs": [],
   "source": [
    "#plt.figure(figsize=(10, 20))\n",
    "#imgplot = plt.imshow(image)"
   ]
  },
  {
   "cell_type": "code",
   "execution_count": null,
   "metadata": {},
   "outputs": [],
   "source": [
    "ratio = image.shape[0] / 1000\n",
    "orig = image.copy()\n",
    "image = imutils.resize(image, height = 1000)"
   ]
  },
  {
   "cell_type": "code",
   "execution_count": null,
   "metadata": {},
   "outputs": [],
   "source": [
    "# convert the image to grayscale, blur it, and find edges\n",
    "# in the image\n",
    "gray = cv2.cvtColor(image, cv2.COLOR_BGR2GRAY)\n",
    "gray = cv2.GaussianBlur(gray, (5, 5), 0)\n",
    "edged = cv2.Canny(gray, 75, 200)"
   ]
  },
  {
   "cell_type": "code",
   "execution_count": null,
   "metadata": {},
   "outputs": [],
   "source": [
    "#plt.figure(figsize=(10, 20))\n",
    "#imgplot = plt.imshow(edged)"
   ]
  },
  {
   "cell_type": "code",
   "execution_count": null,
   "metadata": {},
   "outputs": [],
   "source": [
    "# show the original image and the edge detected image\n",
    "cv2.imshow(\"Image\", image)\n",
    "cv2.imshow(\"Edged\", edged)\n",
    "cv2.waitKey(0)\n",
    "cv2.destroyAllWindows()"
   ]
  },
  {
   "cell_type": "markdown",
   "metadata": {},
   "source": [
    "### Find edges of pages (contours)"
   ]
  },
  {
   "cell_type": "code",
   "execution_count": null,
   "metadata": {},
   "outputs": [],
   "source": [
    "# find the contours in the edged image, keeping only the\n",
    "# largest ones, and initialize the screen contour\n",
    "cnts = cv2.findContours(edged.copy(), cv2.RETR_LIST, cv2.CHAIN_APPROX_SIMPLE)\n",
    "cnts = imutils.grab_contours(cnts)\n",
    "cnts = sorted(cnts, key = cv2.contourArea, reverse = True)[:5]"
   ]
  },
  {
   "cell_type": "code",
   "execution_count": null,
   "metadata": {},
   "outputs": [],
   "source": [
    "# loop over contours\n",
    "for c in cnts:\n",
    "    # approximate the contour\n",
    "    peri = cv2.arcLength(c, True)\n",
    "    approx = cv2.approxPolyDP(c, 0.02*peri, True)\n",
    "    \n",
    "    # if our approximated contour has 4 points, then we can assume we have foound the page\n",
    "    if len(approx) == 4:\n",
    "        screenCnt = approx\n",
    "        break"
   ]
  },
  {
   "cell_type": "code",
   "execution_count": null,
   "metadata": {},
   "outputs": [],
   "source": [
    "# show the contour (outline) of the piece of paper\n",
    "cv2.drawContours(image, [screenCnt], -1, (0, 255, 0), 2)\n",
    "cv2.imshow(\"Outline\", image)\n",
    "cv2.waitKey(0)\n",
    "cv2.destroyAllWindows()"
   ]
  },
  {
   "cell_type": "markdown",
   "metadata": {},
   "source": [
    "### Threshold"
   ]
  },
  {
   "cell_type": "code",
   "execution_count": null,
   "metadata": {},
   "outputs": [],
   "source": [
    "# convert the warped image to grayscale, then threshold it\n",
    "# to give it that 'black and white' paper effect\n",
    "warped = cv2.cvtColor(image, cv2.COLOR_BGR2GRAY)\n",
    "T = threshold_local(warped, 11, offset = 10, method = \"gaussian\")\n",
    "warped = (warped > T).astype(\"uint8\") * 255"
   ]
  },
  {
   "cell_type": "code",
   "execution_count": null,
   "metadata": {},
   "outputs": [],
   "source": [
    "# show the original and scanned images\n",
    "print(\"STEP 3: Apply perspective transform\")\n",
    "cv2.imshow(\"Original\", imutils.resize(orig, height = 650))\n",
    "cv2.imshow(\"Scanned\", imutils.resize(warped, height = 650))\n",
    "cv2.waitKey(0)"
   ]
  },
  {
   "cell_type": "markdown",
   "metadata": {},
   "source": [
    "### PyTesseract"
   ]
  },
  {
   "cell_type": "code",
   "execution_count": 2,
   "metadata": {},
   "outputs": [],
   "source": [
    "# import the necessary packages\n",
    "from PIL import Image\n",
    "import pytesseract\n",
    "import argparse\n",
    "import cv2\n",
    "import os"
   ]
  },
  {
   "cell_type": "code",
   "execution_count": 7,
   "metadata": {},
   "outputs": [
    {
     "data": {
      "text/plain": [
       "True"
      ]
     },
     "execution_count": 7,
     "metadata": {},
     "output_type": "execute_result"
    }
   ],
   "source": [
    "# load the example image and convert it to grayscale\n",
    "image = cv2.imread(\"page2.jpg\")\n",
    "gray = cv2.cvtColor(image, cv2.COLOR_BGR2GRAY)\n",
    "\n",
    "# make a check to see if median blurring should be done to remove\n",
    "# noise\n",
    "#gray = cv2.medianBlur(gray, 3)\n",
    "gray = cv2.GaussianBlur(gray, (3, 3), 0)\n",
    "\n",
    "# check to see if we should apply thresholding to preprocess the\n",
    "# image\n",
    "gray = cv2.threshold(gray, 0, 255, cv2.THRESH_BINARY | cv2.THRESH_OTSU)[1]\n",
    " \n",
    "# write the grayscale image to disk as a temporary file so we can\n",
    "# apply OCR to it\n",
    "filename = \"test.png\"\n",
    "cv2.imwrite(filename, gray)"
   ]
  },
  {
   "cell_type": "code",
   "execution_count": 8,
   "metadata": {},
   "outputs": [
    {
     "name": "stdout",
     "output_type": "stream",
     "text": [
      "38 THE LEAN STARTUP\n",
      "\n",
      "the investors who allocate\n",
      "trepreneurial teams. It isc\n",
      "and small—that depend\n",
      "You can’t take learning t\n",
      "You cannot give it to ¢\n",
      "\n",
      "Precious Money, time\n",
      "old comfort to the o\n",
      "\n",
      "On entrepreneurial INNovatio\n",
      "0 the bank; you cant spend j\n",
      "ustomers and cannot return it to limited\n",
      "partners. Is it any wonder that learning has a bad name in entre.\n",
      "preneurial and managerial circles?\n",
      "\n",
      "Yet if the fundamental goal of entre\n",
      "\n",
      "in organization building under conditions of extreme uncer.\n",
      "tainty, its most vital function is learning. We must learn the\n",
      "truth about which elements of our strategy are working to te-\n",
      "alize our vision and which are Just crazy. We must learn what\n",
      "customers really want, not what they say they want or what we\n",
      "think they should want. We must discover whether we are on\n",
      "path that will lead to growing a sustainable business. |\n",
      "In the Lean Startup model, we are rehabilitating learning\n",
      "with a concept I call validated learning. Validated learning is not\n",
      "after-the-fact rationalization or a good story designed to hide\n",
      "failure. It is a rigorous method for demonstrating progress when\n",
      "one is embedded in the soil of extreme uncertainty in which\n",
      "startups grow. Validated learning is the process of demonstrating\n",
      "empirically that a team has discovered valuable truths about 4\n",
      "startup’s present and future business prospects. It is more con-\n",
      "crete, more accurate, and faster than market forecasting or clas-\n",
      "\n",
      "sical business planning. It is the principal antidote to the lethal\n",
      "\n",
      "problem of achieving failure: successfully executing a plan that\n",
      "leads nowhere.\n",
      "\n",
      "’ and €ner. toe\n",
      "_ tl.\n",
      "\n",
      "1 to SUrVive\n",
      "\n",
      "Preneurship is to engage\n",
      "\n",
      "VALIDATED LEARNING AT IMVU\n",
      "\n",
      "Let me illustrate this with an example from my career. M\n",
      "\n",
      "any\n",
      "audiences have heard me recount the story of IMVU's founding\n"
     ]
    }
   ],
   "source": [
    "# load the image as a PIL/Pillow image, apply OCR, and then delete\n",
    "# the temporary file\n",
    "text = pytesseract.image_to_string(Image.open(filename))\n",
    "os.remove(filename)\n",
    "print(text)"
   ]
  },
  {
   "cell_type": "code",
   "execution_count": null,
   "metadata": {},
   "outputs": [],
   "source": []
  },
  {
   "cell_type": "code",
   "execution_count": null,
   "metadata": {},
   "outputs": [],
   "source": []
  },
  {
   "cell_type": "code",
   "execution_count": null,
   "metadata": {},
   "outputs": [],
   "source": []
  },
  {
   "cell_type": "code",
   "execution_count": null,
   "metadata": {},
   "outputs": [],
   "source": []
  },
  {
   "cell_type": "code",
   "execution_count": null,
   "metadata": {},
   "outputs": [],
   "source": []
  },
  {
   "cell_type": "code",
   "execution_count": 10,
   "metadata": {},
   "outputs": [],
   "source": [
    "import cv2 \n",
    "import pytesseract"
   ]
  },
  {
   "cell_type": "code",
   "execution_count": 13,
   "metadata": {},
   "outputs": [],
   "source": [
    "# get grayscale image\n",
    "def get_grayscale(image):\n",
    "    return cv2.cvtColor(image, cv2.COLOR_BGR2GRAY)\n",
    "\n",
    "# noise removal\n",
    "def remove_noise(image):\n",
    "    return cv2.medianBlur(image,5)\n",
    " \n",
    "#thresholding\n",
    "def thresholding(image):\n",
    "    return cv2.threshold(image, 0, 255, cv2.THRESH_BINARY + cv2.THRESH_OTSU)[1]\n",
    "\n",
    "#dilation\n",
    "def dilate(image):\n",
    "    kernel = np.ones((5,5),np.uint8)\n",
    "    return cv2.dilate(image, kernel, iterations = 1)\n",
    "    \n",
    "#erosion\n",
    "def erode(image):\n",
    "    kernel = np.ones((5,5),np.uint8)\n",
    "    return cv2.erode(image, kernel, iterations = 1)\n",
    "\n",
    "#opening - erosion followed by dilation\n",
    "def opening(image):\n",
    "    kernel = np.ones((5,5),np.uint8)\n",
    "    return cv2.morphologyEx(image, cv2.MORPH_OPEN, kernel)\n",
    "\n",
    "#canny edge detection\n",
    "def canny(image):\n",
    "    return cv2.Canny(image, 100, 200)\n",
    "\n",
    "#skew correction\n",
    "def deskew(image):\n",
    "    coords = np.column_stack(np.where(image > 0))\n",
    "    angle = cv2.minAreaRect(coords)[-1]\n",
    "    if angle < -45:\n",
    "        angle = -(90 + angle)\n",
    "    else:\n",
    "        angle = -angle\n",
    "    (h, w) = image.shape[:2]\n",
    "    center = (w // 2, h // 2)\n",
    "    M = cv2.getRotationMatrix2D(center, angle, 1.0)\n",
    "    rotated = cv2.warpAffine(image, M, (w, h), flags=cv2.INTER_CUBIC, borderMode=cv2.BORDER_REPLICATE)\n",
    "    return rotated\n",
    "\n",
    "#template matching\n",
    "def match_template(image, template):\n",
    "    return cv2.matchTemplate(image, template, cv2.TM_CCOEFF_NORMED)"
   ]
  },
  {
   "cell_type": "code",
   "execution_count": 21,
   "metadata": {},
   "outputs": [],
   "source": [
    "img = cv2.imread('page6.jpg')\n",
    "\n",
    "# Adding custom options\n",
    "custom_config = r'--oem 3 --psm 6'\n",
    "\n",
    "gray = get_grayscale(img)\n",
    "deskewed = deskew(gray)\n",
    "thresh = thresholding(deskewed)"
   ]
  },
  {
   "cell_type": "code",
   "execution_count": 15,
   "metadata": {},
   "outputs": [
    {
     "data": {
      "text/plain": [
       "\"rice is one of the fastest-growing companies of all time. Its\\n\\nname comes from “group coupons,” an ingenious idea that\\nhas spawned an entire industry of social commerce imitators.\\nHowever, it didn’t start out successful. When customers took\\nGroupon up on its first deal, a whopping twenty people bought\\ntwo-for-one pizza in a restaurant on the first floor of the com-\\npany’ Chicago offices—hardly a world-changing event.\\n\\nIn fact, Groupon wasn‘ originally meant to be about com-\\nmerce at all. The founder, Andrew Mason, intended his com-\\npany to become a “collective activism platform” called The\\nPoint. Its goal was to bring people together to solve problems\\nthey couldn't solve on their own, such as fund-raising for a\\ncause or boycotting a certain retailer. The Point's early re-\\nsults were disappointing, however, and at the end of 2008 the\\nfounders decided to try something new. Although they still\\nhad grand ambitions, they were determined to keep the new\\nproduct simple. They built a minimum viable product. Does\\nthis sound like a billion-dollar company to you? Mason tells\\nthe story:\\n\\nWe took a WordPress Blog and we skinned it to say\\n\\nGroupon and then every day we would do a new post.\\n\\nIt was totally ghetto, We would sell T-shirts on the first\""
      ]
     },
     "execution_count": 15,
     "metadata": {},
     "output_type": "execute_result"
    }
   ],
   "source": [
    "pytesseract.image_to_string(img, config=custom_config)"
   ]
  },
  {
   "cell_type": "code",
   "execution_count": 22,
   "metadata": {},
   "outputs": [
    {
     "data": {
      "text/plain": [
       "'finer is one of the fastest-growing companies of all time. Its\\n\\nname comes from “group coupons,” an ingenious idea that\\nhas spawned an entire industry of social commerce imitators.\\nHowever, it didn’t start out successful. When customers took\\nGroupon up on its first deal, a whopping twenty people bought\\ntwo-for-one pizza in a restaurant on the first floor of the com-\\npany’s Chicago offices—hardly a world-changing event.\\n\\nIn fact, Groupon wasn’ originally meant to be about com-\\nmerce at all. The founder, Andrew Mason, intended his com-\\npany to become a “collective activism platform” called The\\nPoint. Its goal was to bring people together to solve problems\\nthey couldn’t solve on their own, such as fund-raising for a\\ncause or boycotting a certain retailer. The Point’s early re-\\nsults were disappointing, however, and at the end of 2008 the\\nfounders decided to try something new. Although they still\\nhad grand ambitions, they were determined to keep the new\\nproduct simple. They built a minimum viable product. Does\\nthis sound like a billion-dollar company to you? Mason tells\\nthe story:\\n\\nWe took a WordPress Blog and we skinned it to say\\n\\nGroupon and then every day we would do a new post.\\n\\nIt was totally ghetto. We would sell T-shirts on the first'"
      ]
     },
     "execution_count": 22,
     "metadata": {},
     "output_type": "execute_result"
    }
   ],
   "source": [
    "pytesseract.image_to_string(thresh, config=custom_config)"
   ]
  },
  {
   "cell_type": "code",
   "execution_count": null,
   "metadata": {},
   "outputs": [],
   "source": []
  }
 ],
 "metadata": {
  "kernelspec": {
   "display_name": "Python 3",
   "language": "python",
   "name": "python3"
  },
  "language_info": {
   "codemirror_mode": {
    "name": "ipython",
    "version": 3
   },
   "file_extension": ".py",
   "mimetype": "text/x-python",
   "name": "python",
   "nbconvert_exporter": "python",
   "pygments_lexer": "ipython3",
   "version": "3.7.4"
  }
 },
 "nbformat": 4,
 "nbformat_minor": 4
}
