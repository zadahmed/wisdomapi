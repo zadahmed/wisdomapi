{
 "cells": [
  {
   "cell_type": "markdown",
   "metadata": {},
   "source": [
    "# Scholarly"
   ]
  },
  {
   "cell_type": "code",
   "execution_count": null,
   "metadata": {},
   "outputs": [],
   "source": [
    "import scholarly"
   ]
  },
  {
   "cell_type": "code",
   "execution_count": null,
   "metadata": {},
   "outputs": [],
   "source": [
    "print(next(scholarly.search_author('Steven A. Cholewiak')))"
   ]
  },
  {
   "cell_type": "code",
   "execution_count": null,
   "metadata": {},
   "outputs": [],
   "source": [
    "search_query = scholarly.search_author('Marty Banks, Berkeley')"
   ]
  },
  {
   "cell_type": "code",
   "execution_count": null,
   "metadata": {},
   "outputs": [],
   "source": [
    "print(next(search_query))"
   ]
  },
  {
   "cell_type": "code",
   "execution_count": null,
   "metadata": {},
   "outputs": [],
   "source": [
    "search_query = scholarly.search_keyword('Haptics')"
   ]
  },
  {
   "cell_type": "code",
   "execution_count": null,
   "metadata": {},
   "outputs": [],
   "source": [
    "print(next(search_query))"
   ]
  },
  {
   "cell_type": "code",
   "execution_count": null,
   "metadata": {},
   "outputs": [],
   "source": [
    "search_query = scholarly.search_pubs_query('machine learning')"
   ]
  },
  {
   "cell_type": "code",
   "execution_count": null,
   "metadata": {},
   "outputs": [],
   "source": [
    "titles = []\n",
    "e_docs = []\n",
    "urls = []\n",
    "abstracts = []\n",
    "cnt = 1\n",
    "for i in search_query:\n",
    "    if cnt > 10:\n",
    "        break\n",
    "    else:\n",
    "        result = next(search_query)\n",
    "        #result = next(search_query).fill()\n",
    "        # titles\n",
    "        try:\n",
    "            result.bib['title']\n",
    "            titles.append(result.bib['title'])\n",
    "        except:\n",
    "            titles.append(\"\")\n",
    "        # e documents\n",
    "        try:\n",
    "            result.bib['eprint']\n",
    "            e_docs.append(result.bib['eprint'])\n",
    "        except:\n",
    "            e_docs.append(\"\")\n",
    "        # urls\n",
    "        try:\n",
    "            result.bib['url']\n",
    "            urls.append(result.bib['url'])\n",
    "        except:\n",
    "            urls.append(\"\")\n",
    "        # abstracts\n",
    "        try:\n",
    "            result.bib['abstract']\n",
    "            abstracts.append(result.bib['abstract'])\n",
    "        except:\n",
    "            abstracts.append(\"\")\n",
    "        cnt += 1"
   ]
  },
  {
   "cell_type": "markdown",
   "metadata": {},
   "source": [
    "### Script"
   ]
  },
  {
   "cell_type": "code",
   "execution_count": null,
   "metadata": {},
   "outputs": [],
   "source": [
    "import scholarly\n",
    "\n",
    "search_query = scholarly.search_pubs_query('machine learning')\n",
    "\n",
    "titles = []\n",
    "e_docs = []\n",
    "urls = []\n",
    "abstracts = []\n",
    "cnt = 1\n",
    "for i in search_query:\n",
    "    if cnt > 10:\n",
    "        break\n",
    "    else:\n",
    "        result = next(search_query)\n",
    "        #result = next(search_query).fill()\n",
    "        # titles\n",
    "        try:\n",
    "            result.bib['title']\n",
    "            titles.append(result.bib['title'])\n",
    "        except:\n",
    "            titles.append(\"\")\n",
    "        # e documents\n",
    "        try:\n",
    "            result.bib['eprint']\n",
    "            e_docs.append(result.bib['eprint'])\n",
    "        except:\n",
    "            e_docs.append(\"\")\n",
    "        # urls\n",
    "        try:\n",
    "            result.bib['url']\n",
    "            urls.append(result.bib['url'])\n",
    "        except:\n",
    "            urls.append(\"\")\n",
    "        # abstracts\n",
    "        try:\n",
    "            result.bib['abstract']\n",
    "            abstracts.append(result.bib['abstract'])\n",
    "        except:\n",
    "            abstracts.append(\"\")\n",
    "        cnt += 1"
   ]
  },
  {
   "cell_type": "code",
   "execution_count": 1,
   "metadata": {},
   "outputs": [],
   "source": [
    "from wisdomaiengine import getgooglescholar"
   ]
  },
  {
   "cell_type": "code",
   "execution_count": 2,
   "metadata": {},
   "outputs": [],
   "source": [
    "titles, e_docs, urls, abstracts = getgooglescholar(\"artificial intelligence\")"
   ]
  },
  {
   "cell_type": "code",
   "execution_count": 3,
   "metadata": {},
   "outputs": [
    {
     "name": "stdout",
     "output_type": "stream",
     "text": [
      "Title:\n",
      " Distributed artificial intelligence \n",
      "\n",
      "E-doc:\n",
      "  \n",
      "\n",
      "Url:\n",
      " https://books.google.com/books?hl=en&lr=&id=azyjBQAAQBAJ&oi=fnd&pg=PP1&dq=artificial+intelligence&ots=nilE2gIaLc&sig=gq5nYKEPew9yiMavuhzq11JNfNM \n",
      "\n",
      "Abstract:\n",
      " PITMAN PUBLISHING 128 Long Acre, London WC2E 9AN A Division of Longman Group UK \n",
      "Limited © Les Gasser and Michael N. Huhns 1989 Copyright of the volume as a whole is the \n",
      "Editors', although copyright of an individual paper within the volume is retained by its author …\n",
      "------\n",
      "Title:\n",
      " Foundations of distributed artificial intelligence \n",
      "\n",
      "E-doc:\n",
      "  \n",
      "\n",
      "Url:\n",
      " https://books.google.com/books?hl=en&lr=&id=QqJV_hZgCiYC&oi=fnd&pg=PA5&dq=artificial+intelligence&ots=scBQjmtkEv&sig=1-4kwmAoXojfNRoTBwI0KM-FaHk \n",
      "\n",
      "Abstract:\n",
      " Distributed Artificial Intelligence (DAI) is a dynamic area of research and this book is the first comprehensive, truly integrated exposition of the discipline presenting influential contributions from leaders in the field. Commences with a solid introduction to the theoretical …\n",
      "------\n",
      "Title:\n",
      " Bayesian artificial intelligence \n",
      "\n",
      "E-doc:\n",
      " http://www.cse.buffalo.edu/faculty/shapiro/Courses/CSE563/Slides/krrSlides.pdf \n",
      "\n",
      "Url:\n",
      " https://content.taylorfrancis.com/books/download?dac=C2009-0-19245-2&isbn=9780429075391&format=googlePreviewPdf \n",
      "\n",
      "Abstract:\n",
      " Bayesian Artificial Intelligence, in our understanding, is the incorporation of Bayesian inferential methods in the development of a software architecture for an Artificial Intelligence (AI). We believe that important ingredients of such an architecture will be Bayesian networks …\n",
      "------\n",
      "Title:\n",
      " Multi-agent systems: an introduction to distributed artificial intelligence \n",
      "\n",
      "E-doc:\n",
      " http://jasss.soc.surrey.ac.uk/4/2/reviews/rouchier.html \n",
      "\n",
      "Url:\n",
      " http://jasss.soc.surrey.ac.uk/4/2/reviews/rouchier.html \n",
      "\n",
      "Abstract:\n",
      " This edition is a translation of the book formerly published in French in 1995 (Les systèmes multi-agents: Vers une intelligence collective, Inter Editions, Paris.) Even now, it is still the main reference for the French research community in multi-agent systems (MAS). The book …\n",
      "------\n",
      "Title:\n",
      " Introduction to artificial intelligence \n",
      "\n",
      "E-doc:\n",
      " https://www.researchgate.net/profile/Peter_Cheeseman2/publication/24154867_Introduction_to_artificial_intelligence/links/56eae3ae08aec6b500166171.pdf \n",
      "\n",
      "Url:\n",
      "  \n",
      "\n",
      "Abstract:\n",
      " \n",
      "------\n",
      "Title:\n",
      " Artificial intelligence: a guide to intelligent systems \n",
      "\n",
      "E-doc:\n",
      " https://cs.columbusstate.edu/curriculum/syllabi_archive/syllabi_2007/spring_2007/CPSC_5185_khan.doc \n",
      "\n",
      "Url:\n",
      " https://books.google.com/books?hl=en&lr=&id=1BxYQnrfv9MC&oi=fnd&pg=PR11&dq=artificial+intelligence&ots=GWfqVGKp0E&sig=1r1Uqc6dD3D5ud48Mz_9aruRYMA \n",
      "\n",
      "Abstract:\n",
      " Artificial Intelligence is one of the most rapidly evolving subjects within the computing/engineering curriculum, with an emphasis on creating practical applications from hybrid techniques. Despite this, the traditional textbooks continue to expect mathematical and …\n",
      "------\n",
      "Title:\n",
      " Logical foundations of artificial intelligence \n",
      "\n",
      "E-doc:\n",
      " http://kryten.mm.rpi.edu/COURSES/LOGAIS02/nonmonotonic.pdf \n",
      "\n",
      "Url:\n",
      " https://books.google.com/books?hl=en&lr=&id=nFktBAAAQBAJ&oi=fnd&pg=PP1&dq=artificial+intelligence&ots=Zz86wm8I-W&sig=vHtp2YNGImHsTXPmbPcjNQ3alTc \n",
      "\n",
      "Abstract:\n",
      " Intended both as a text for advanced undergraduates and graduate students, and as a key reference work for AI researchers and developers, Logical Foundations of Artificial Intelligence is a lucid, rigorous, and comprehensive account of the fundamentals of artificial  …\n",
      "------\n",
      "Title:\n",
      " Artificial intelligence: a new synthesis \n",
      "\n",
      "E-doc:\n",
      "  \n",
      "\n",
      "Url:\n",
      " https://books.google.com/books?hl=en&lr=&id=Gt7gKuzL_8AC&oi=fnd&pg=PP2&dq=artificial+intelligence&ots=Q_cjTIVDdK&sig=q1i4pZnFPZQC-z9S8kGiCH-6Xc0 \n",
      "\n",
      "Abstract:\n",
      " Intelligent agents are employed as the central characters in this new introductory text. Beginning with elementary reactive agents, Nilsson gradually increases their cognitive horsepower to illustrate the most important and lasting ideas in AI. Neural networks, genetic …\n",
      "------\n",
      "Title:\n",
      " The handbook of artificial intelligence \n",
      "\n",
      "E-doc:\n",
      " https://www.sfbtr8.spatial-cognition.de/aigaion/index.php/attachments/single/010%20FUZZY-Handbook%20of%20Artifical%20Intelligence.pdf \n",
      "\n",
      "Url:\n",
      " https://books.google.com/books?hl=en&lr=&id=xP7iBQAAQBAJ&oi=fnd&pg=PP1&dq=artificial+intelligence&ots=KapTT_-tXg&sig=3Vmr56ozpRHo3HtxevEWn-d7STg \n",
      "\n",
      "Abstract:\n",
      " The Handbook of Artificial Intelligence, Volume II focuses on the improvements in artificial intelligence (AI) and its increasing applications, including programming languages, intelligent CAI systems, and the employment of AI in medicine, science, and education. The …\n",
      "------\n",
      "Title:\n",
      " Artificial intelligence with uncertainty \n",
      "\n",
      "E-doc:\n",
      "  \n",
      "\n",
      "Url:\n",
      " https://content.taylorfrancis.com/books/download?dac=C2016-0-95249-3&isbn=9781498776271&format=googlePreviewPdf \n",
      "\n",
      "Abstract:\n",
      " MATLAB® is a trademark of The MathWorks, Inc. and is used with permission. The MathWorks \n",
      "does not warrant the accuracy of the text or exercises in this book. This book's use or discussion \n",
      "of MATLAB® software or related products does not constitute endorsement or sponsorship by …\n",
      "------\n"
     ]
    }
   ],
   "source": [
    "cnt = 0\n",
    "while cnt < 10:\n",
    "    print(\"Title:\\n\", titles[cnt], \"\\n\\nE-doc:\\n\", e_docs[cnt], \"\\n\\nUrl:\\n\", urls[cnt], \"\\n\\nAbstract:\\n\", abstracts[cnt])\n",
    "    print(\"------\")\n",
    "    cnt += 1"
   ]
  },
  {
   "cell_type": "code",
   "execution_count": null,
   "metadata": {},
   "outputs": [],
   "source": []
  },
  {
   "cell_type": "code",
   "execution_count": null,
   "metadata": {},
   "outputs": [],
   "source": []
  },
  {
   "cell_type": "code",
   "execution_count": null,
   "metadata": {},
   "outputs": [],
   "source": []
  },
  {
   "cell_type": "code",
   "execution_count": null,
   "metadata": {},
   "outputs": [],
   "source": []
  },
  {
   "cell_type": "code",
   "execution_count": null,
   "metadata": {},
   "outputs": [],
   "source": [
    "# Retrieve the author's data, fill-in, and print\n",
    "search_query = scholarly.search_author('Steven A Cholewiak')\n",
    "author = next(search_query).fill()\n",
    "print(\"Author - \", author)\n",
    "\n",
    "# Print the titles of the author's publications\n",
    "print(\"Titles - \", [pub.bib['title'] for pub in author.publications])\n",
    "\n",
    "# Take a closer look at the first publication\n",
    "pub = author.publications[0].fill()\n",
    "print(\"Publications - \", pub)\n",
    "\n",
    "# Which papers cited that publication?\n",
    "print(\"Citations - \", [citation.bib['title'] for citation in pub.get_citedby()])"
   ]
  }
 ],
 "metadata": {
  "kernelspec": {
   "display_name": "Python 3",
   "language": "python",
   "name": "python3"
  },
  "language_info": {
   "codemirror_mode": {
    "name": "ipython",
    "version": 3
   },
   "file_extension": ".py",
   "mimetype": "text/x-python",
   "name": "python",
   "nbconvert_exporter": "python",
   "pygments_lexer": "ipython3",
   "version": "3.7.6"
  }
 },
 "nbformat": 4,
 "nbformat_minor": 4
}
