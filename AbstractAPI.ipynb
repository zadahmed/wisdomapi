{
 "cells": [
  {
   "cell_type": "code",
   "execution_count": null,
   "metadata": {},
   "outputs": [],
   "source": [
    "# imports\n",
    "import textract\n",
    "import string\n",
    "import re\n",
    "from pathlib import Path\n",
    "import requests\n",
    "import os\n",
    "\n",
    "# download pdf from url\n",
    "\n",
    "url = \"http://arxiv.org/pdf/1411.6753v1\"\n",
    "url_name = url.split(\"/\")[-1]\n",
    "\n",
    "pdf = Path(url_name+\".pdf\")\n",
    "response = requests.get(url)\n",
    "pdf.write_bytes(response.content)\n",
    "\n",
    "try:\n",
    "    text = textract.process(pdf)\n",
    "except:\n",
    "    # this method takes much longer... either keep this here or replace with error message for user\n",
    "    text = textract.process(pdf, method=\"tesseract\", language=\"eng\")\n",
    "# decode text string from pdf\n",
    "text = text.decode('utf-8')\n",
    "# split at double breaks\n",
    "text = text.split(\"\\n\\n\")\n",
    "# collect abstract text\n",
    "abstract = []\n",
    "cnt = 0\n",
    "while cnt < len(text):\n",
    "    if \"abstract\" in text[cnt].lower():\n",
    "        if \"abstract\" in text[cnt].lower() and len(text[cnt].split()) < 10:\n",
    "            cnt += 1\n",
    "        while True:\n",
    "            if \"*\" in text[cnt] and len(text[cnt].split()) < 10:\n",
    "                cnt += 1\n",
    "            elif len(text[cnt].split()) > 10:\n",
    "                if \"introduction\" in text[cnt][:20].lower() or \"i ntroduction\" in text[cnt][:20].lower():\n",
    "                    break\n",
    "                abstract.append(text[cnt])\n",
    "                cnt +=1\n",
    "            elif len(text[cnt].split()) == 1:\n",
    "                try:\n",
    "                    int(text[cnt])\n",
    "                except:\n",
    "                    break\n",
    "                break\n",
    "            else:\n",
    "                break\n",
    "        break\n",
    "    else:\n",
    "        cnt += 1\n",
    "if not abstract:\n",
    "    stop = 0\n",
    "    while True:\n",
    "        if \"introduction\" in text[stop].lower() and len(text[stop].split()) < 5:\n",
    "            break\n",
    "        else:\n",
    "            stop += 1\n",
    "    cnt = 0\n",
    "    while cnt < stop:\n",
    "        if text[cnt] == \" \" or len(text[cnt]) < 2:\n",
    "            if len(text[cnt+1].split()) < 10:\n",
    "                cnt += 1\n",
    "            else:\n",
    "                abstract.append(text[cnt+1])\n",
    "                if text[cnt+1][-1] == \"-\" or text[cnt+1][:-1] == \"-\":\n",
    "                    while True:\n",
    "                        if text[cnt+2][0].islower():\n",
    "                            abstract.append(text[cnt+2])\n",
    "                            break\n",
    "                        else:\n",
    "                            cnt += 1\n",
    "        cnt += 1\n",
    "# format abstract to present to user\n",
    "abstract_string = \"\"\n",
    "for a in abstract:\n",
    "    a = re.sub(\"-\\n\", \"\", a)\n",
    "    a = re.sub(\"\\n\", \" \", a)\n",
    "    if a[-1] not in string.punctuation:\n",
    "        abstract_string += a+\" \"\n",
    "    elif a[-1] == \"-\" or a[-1] == \"-\":\n",
    "        abstract_string += a[:-1]\n",
    "    elif a[-1] in string.punctuation:\n",
    "        abstract_string += a+\" \"\n",
    "# remove word 'abstract' and date at start\n",
    "if \"abstract\" in abstract_string[:8].lower():\n",
    "    abstract_string = abstract_string[8:]\n",
    "dummy1 = abstract_string.split(\". \")\n",
    "dummy2 = abstract_string.split()\n",
    "if \"abstract\" in dummy1[0].lower():\n",
    "    cnt = 0\n",
    "    while True:\n",
    "        if dummy2[cnt].lower().strip() != \"abstract\":\n",
    "            cnt += 1\n",
    "        else:\n",
    "            cnt += 1\n",
    "            break\n",
    "    abstract_string = \" \".join(word for word in dummy2[cnt:])\n",
    "if abstract_string[:1] in string.punctuation or abstract_string[:1] == \"—\":\n",
    "    abstract_string = abstract_string[1:]\n",
    "abstract_string = abstract_string.strip()\n",
    "print(\"Abstract:\\n\\n\", abstract_string)\n",
    "\n",
    "os.remove(pdf)"
   ]
  },
  {
   "cell_type": "code",
   "execution_count": 1,
   "metadata": {},
   "outputs": [],
   "source": [
    "from abstract_api import abstractextracter"
   ]
  },
  {
   "cell_type": "code",
   "execution_count": 2,
   "metadata": {},
   "outputs": [
    {
     "data": {
      "text/plain": [
       "'The Dynamic Scalability of resources, a problem in Infrastructure as a Service (IaaS) has been the hotspot for research and industry communities. The heterogeneous and dynamic nature of the Cloud workloads depends on the Quality of Service (QoS) allocation of appropriate workloads to appropriate resources. A workload is an abstraction of work that instance or set of instances that are going to perform. Running a web service or being a Hadoop data node is valid workloads. The efficient management of dynamic nature resources can be done with the help of workloads. Until workload is considered a fundamental capability, the Cloud resources cannot be utilized in an efficient manner. In this paper, different workloads have been identified and categorized along with their characteristics and constraints. The metrics based on Quality of Service (QoS) requirements have been identified for each workload and have been analyzed for creating better application design. Keywords— Cloud Computing; Infrastructure as a Service; Quality Attributes; Cloud Metrics'"
      ]
     },
     "execution_count": 2,
     "metadata": {},
     "output_type": "execute_result"
    }
   ],
   "source": [
    "abstractextracter(\"http://arxiv.org/pdf/1411.6753v1\")"
   ]
  },
  {
   "cell_type": "code",
   "execution_count": null,
   "metadata": {},
   "outputs": [],
   "source": []
  }
 ],
 "metadata": {
  "kernelspec": {
   "display_name": "Python 3",
   "language": "python",
   "name": "python3"
  },
  "language_info": {
   "codemirror_mode": {
    "name": "ipython",
    "version": 3
   },
   "file_extension": ".py",
   "mimetype": "text/x-python",
   "name": "python",
   "nbconvert_exporter": "python",
   "pygments_lexer": "ipython3",
   "version": "3.7.4"
  }
 },
 "nbformat": 4,
 "nbformat_minor": 4
}
