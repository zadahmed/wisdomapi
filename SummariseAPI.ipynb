{
 "cells": [
  {
   "cell_type": "code",
   "execution_count": null,
   "metadata": {},
   "outputs": [],
   "source": [
    "#import packages\n",
    "import io\n",
    "import string\n",
    "import requests\n",
    "import re\n",
    "from pdfminer.pdfinterp import PDFResourceManager, PDFPageInterpreter\n",
    "from pdfminer.converter import TextConverter\n",
    "from pdfminer.layout import LAParams\n",
    "from pdfminer.pdfpage import PDFPage\n",
    "from textblob import TextBlob\n",
    "from sumy.parsers.plaintext import PlaintextParser\n",
    "from sumy.nlp.tokenizers import Tokenizer\n",
    "from sumy.summarizers.text_rank import TextRankSummarizer"
   ]
  },
  {
   "cell_type": "code",
   "execution_count": null,
   "metadata": {},
   "outputs": [],
   "source": [
    "escapes = \"ΔΩπϴλθ°îĵk̂ûαβγδεζηθικλμνξοπρςστυφχψωΓΔΘΛΞΠΣΦΨΩϴ≤=\""
   ]
  },
  {
   "cell_type": "code",
   "execution_count": null,
   "metadata": {},
   "outputs": [],
   "source": [
    "# get bytes stream of web pdf\n",
    "#pdfurl = \"https://arxiv.org/pdf/2001.09903.pdf\"\n",
    "#pdfurl = \"http://arxiv.org/pdf/1811.04422v1\"\n",
    "pdfurl = \"https://arxiv.org/pdf/2001.09956\"\n",
    "#pdfurl = \"https://arxiv.org/pdf/2001.09412.pdf\"\n",
    "#pdfurl = \"http://arxiv.org/pdf/1411.6753v1\"\n",
    "#pdfurl = \"https://arxiv.org/pdf/2001.10393.pdf\"\n",
    "r = requests.get(pdfurl, stream=True)\n",
    "f = io.BytesIO(r.content)"
   ]
  },
  {
   "cell_type": "code",
   "execution_count": null,
   "metadata": {},
   "outputs": [],
   "source": [
    "# set up pdfminer\n",
    "rsrcmgr = PDFResourceManager()\n",
    "retstr = io.StringIO()\n",
    "codec = 'utf-8'\n",
    "laparams = LAParams()\n",
    "device = TextConverter(rsrcmgr, retstr, codec=codec, laparams=laparams)\n",
    "interpreter = PDFPageInterpreter(rsrcmgr, device)\n",
    "pagenos=set()"
   ]
  },
  {
   "cell_type": "code",
   "execution_count": null,
   "metadata": {},
   "outputs": [],
   "source": [
    "# extract abstract\n",
    "content = []\n",
    "for page in PDFPage.get_pages(fp=f, pagenos=pagenos, maxpages=0, caching=True, check_extractable=True):\n",
    "    interpreter.process_page(page)\n",
    "\n",
    "text = retstr.getvalue()\n",
    "content.append(text)\n",
    "# close apps\n",
    "device.close()\n",
    "retstr.close()"
   ]
  },
  {
   "cell_type": "code",
   "execution_count": null,
   "metadata": {},
   "outputs": [],
   "source": [
    "text = []\n",
    "splits = content[0].split(\"\\n\\n\")\n",
    "for chunk in splits:\n",
    "    # if ocr has picked up annoying numbers along side with many \"\\n\"\n",
    "    if chunk.count(\"\\n\") >= 3:\n",
    "        dummy = chunk.split(\"\\n\")\n",
    "        dummy_cnt = 0\n",
    "        for d in dummy:\n",
    "            if len(d)>1:\n",
    "                dummy_cnt += 1\n",
    "        if dummy_cnt > 2:\n",
    "            text.append(chunk)\n",
    "    else:\n",
    "        text.append(chunk)"
   ]
  },
  {
   "cell_type": "code",
   "execution_count": null,
   "metadata": {},
   "outputs": [],
   "source": [
    "# identify abstract\n",
    "if \"abstract\" in \" \".join(i for i in text).lower():\n",
    "    cnt = 0\n",
    "    while True:\n",
    "        if \"abstract\" in text[cnt].lower():\n",
    "            if len(text[cnt].split()) < 2:\n",
    "                cnt += 1\n",
    "                break\n",
    "            else:\n",
    "                if re.match(\"^abstract\", text[cnt][:8].lower()):\n",
    "                    text[cnt] = text[cnt][8:]\n",
    "                break\n",
    "        cnt += 1\n",
    "    text = text[cnt:]"
   ]
  },
  {
   "cell_type": "code",
   "execution_count": null,
   "metadata": {},
   "outputs": [],
   "source": [
    "# identify references\n",
    "cnt = 0\n",
    "while True:\n",
    "    if \"References\" in text[cnt] or \"Appendix\" in text[cnt] or \"Bibliography\" in text[cnt] or \"REFERENCES\" in text[cnt] or \"acknowledgements\" in text[cnt] or \"ACKNOWLEDGEMENTS\" in text[cnt]:\n",
    "        if len(text[cnt].split()) < 3:\n",
    "            break\n",
    "        if \"\\n\" in text[cnt]:\n",
    "            break\n",
    "    cnt += 1\n",
    "\n",
    "text = text[:cnt]"
   ]
  },
  {
   "cell_type": "code",
   "execution_count": null,
   "metadata": {},
   "outputs": [],
   "source": [
    "# remove equation number references\n",
    "clean1 = []\n",
    "for t in text:\n",
    "    if len(t.split()) == 1:\n",
    "        if re.match(\"^\\(\\d\\)\", t):\n",
    "            pass\n",
    "        if re.match(\"\\d\", t):\n",
    "            pass\n",
    "    elif len(t.split()) == 0:\n",
    "        pass\n",
    "    else:\n",
    "        clean1.append(t)"
   ]
  },
  {
   "cell_type": "code",
   "execution_count": null,
   "metadata": {},
   "outputs": [],
   "source": [
    "# remove headers\n",
    "clean2 = []\n",
    "cnt = 0\n",
    "while cnt < len(clean1):\n",
    "    if len(clean1[cnt].split()) < 10:\n",
    "        dummy = re.sub(\"\\d\", \"\", clean1[cnt])\n",
    "        dummy = dummy.strip()\n",
    "        if len(dummy.split()) <= 1:\n",
    "            pass\n",
    "        elif dummy[-1] not in string.punctuation:\n",
    "            dummy2 = re.sub(\"\\d\", \"\", clean1[cnt+1])\n",
    "            dummy2 = re.sub('[^\\w\\s]','', dummy2)\n",
    "            dummy2 = dummy2.strip()\n",
    "            if dummy2:\n",
    "                if dummy2[0].isupper():\n",
    "                    pass\n",
    "                else:\n",
    "                    clean2.append(clean1[cnt])\n",
    "            else:\n",
    "                pass\n",
    "        else:\n",
    "            clean2.append(clean1[cnt])\n",
    "    else:\n",
    "        clean2.append(clean1[cnt])\n",
    "    cnt += 1"
   ]
  },
  {
   "cell_type": "code",
   "execution_count": null,
   "metadata": {},
   "outputs": [],
   "source": [
    "# remove figure captions\n",
    "clean3 = []\n",
    "cnt = 0\n",
    "while cnt < len(clean2):\n",
    "    if re.match('^Fig', clean2[cnt]) or re.match('^fig.', clean2[cnt].lower()) :\n",
    "        pass\n",
    "    else:\n",
    "        clean3.append(clean2[cnt])\n",
    "    cnt += 1"
   ]
  },
  {
   "cell_type": "code",
   "execution_count": null,
   "metadata": {},
   "outputs": [],
   "source": [
    "# remove table data\n",
    "clean4 = []\n",
    "cnt = 0\n",
    "while cnt < len(clean3)-1:\n",
    "    if clean3[cnt][-1] == \".\":\n",
    "        if re.sub(\"\\d\", \"\", clean3[cnt+1]).strip()[0].islower():\n",
    "            pass\n",
    "        else:\n",
    "            clean4.append(clean3[cnt])\n",
    "    elif clean3[cnt][-1] == \"-\" or clean3[cnt][-1] == \"-\":\n",
    "        if clean3[cnt+1][0].islower():\n",
    "            clean4.append(clean3[cnt])\n",
    "        else:\n",
    "            pass\n",
    "    elif \"©\" in clean3[cnt]:\n",
    "        pass\n",
    "    else:\n",
    "        clean4.append(clean3[cnt])\n",
    "    cnt += 1"
   ]
  },
  {
   "cell_type": "code",
   "execution_count": null,
   "metadata": {},
   "outputs": [],
   "source": [
    "# remove citations\n",
    "clean5 = \" \".join(c for c in clean4)\n",
    "clean5 = re.sub(\"\\(cid:\\d\\d\\)\", \"\", clean5)\n",
    "clean5 = re.sub(\"\\(cid:\\d\\)\", \"\", clean5)\n",
    "clean5 = re.sub(\"cid:\", \"\", clean5)\n",
    "clean5 = re.sub(\"cid:\", \"\", clean5)\n",
    "clean5 = re.sub(\"cid\", \"\", clean5)\n",
    "clean5 = re.sub(\"^\\[\\d\\]\", \"\", clean5)\n",
    "clean5 = re.sub(\"^\\[\\d\\d\\]\", \"\", clean5)\n",
    "clean5 = re.sub(\"^\\[\\d\\d\\]\", \"\", clean5)\n",
    "clean5 = re.sub(\"-\\n\", \"\", clean5)\n",
    "clean5 = re.sub(\"\\n\", \" \", clean5)\n",
    "clean5 = re.sub(\"  \", \" \", clean5)"
   ]
  },
  {
   "cell_type": "code",
   "execution_count": null,
   "metadata": {},
   "outputs": [],
   "source": [
    "blob = TextBlob(clean5)\n",
    "sentences = [str(sentence) for sentence in blob.sentences]\n",
    "# remove sentences with math\n",
    "no_math = []\n",
    "for sentence in sentences:\n",
    "    cnt = 0\n",
    "    for symbol in escapes:\n",
    "        if symbol in sentence:\n",
    "            cnt += 1\n",
    "    if cnt == 0:\n",
    "        no_math.append(sentence)\n",
    "# remove sentences with \"Figure X:\" or \"Fig X:\"\"\n",
    "no_figs = []\n",
    "for sentence in no_math:\n",
    "    if re.search(\"Figure \\d:\", sentence):\n",
    "        pass\n",
    "    elif re.search(\"Fig. \\d:\", sentence):\n",
    "        pass\n",
    "    elif re.search(\"Fig \\d:\", sentence):\n",
    "        pass\n",
    "    else:\n",
    "        no_figs.append(sentence)\n",
    "sentences = \" \".join(n for n in no_figs)"
   ]
  },
  {
   "cell_type": "code",
   "execution_count": null,
   "metadata": {},
   "outputs": [],
   "source": [
    "# Summarisation of top 5 key points\n",
    "key_points = 5\n",
    "summary = []\n",
    "blob = TextBlob(sentences)\n",
    "sentences = [str(sentence) for sentence in blob.sentences]  \n",
    "for sentence in sentences:\n",
    "    if sentence.find(\":\", 0, 1) != -1 and sentence.find(\"-\", 1, 3) != -1:\n",
    "        pass\n",
    "    else:\n",
    "        if len(sentence)>2:\n",
    "            if len(sentence.split()) < 150:\n",
    "                summary.append(sentence)\n",
    "parser = PlaintextParser.from_string(' '.join(str(sentence) for sentence in summary), Tokenizer(\"english\"))\n",
    "summarizer = TextRankSummarizer()\n",
    "doc_summary = summarizer(parser.document, key_points)\n",
    "doc_summary = [str(sentence) for sentence in doc_summary]\n",
    "for sent in doc_summary:\n",
    "    print(sent, \"\\n\")"
   ]
  },
  {
   "cell_type": "code",
   "execution_count": null,
   "metadata": {},
   "outputs": [],
   "source": []
  },
  {
   "cell_type": "code",
   "execution_count": null,
   "metadata": {},
   "outputs": [],
   "source": []
  },
  {
   "cell_type": "code",
   "execution_count": null,
   "metadata": {},
   "outputs": [],
   "source": []
  },
  {
   "cell_type": "code",
   "execution_count": null,
   "metadata": {},
   "outputs": [],
   "source": []
  },
  {
   "cell_type": "code",
   "execution_count": null,
   "metadata": {},
   "outputs": [],
   "source": []
  },
  {
   "cell_type": "code",
   "execution_count": null,
   "metadata": {},
   "outputs": [],
   "source": [
    "from wisdomaiengine import pdfdocumentextracter, summarisepdfdocument"
   ]
  },
  {
   "cell_type": "code",
   "execution_count": 2,
   "metadata": {},
   "outputs": [],
   "source": [
    "#pdfurl = \"https://arxiv.org/pdf/2001.09903.pdf\"\n",
    "pdfurl = \"http://arxiv.org/pdf/1811.04422v1\"\n",
    "#pdfurl = \"https://arxiv.org/pdf/2001.09956\"\n",
    "#pdfurl = \"https://arxiv.org/pdf/2001.09412.pdf\"\n",
    "#pdfurl = \"http://arxiv.org/pdf/1411.6753v1\"\n",
    "#pdfurl = \"https://arxiv.org/pdf/2001.10393.pdf\""
   ]
  },
  {
   "cell_type": "code",
   "execution_count": 3,
   "metadata": {},
   "outputs": [],
   "source": [
    "text = pdfdocumentextracter(pdfurl)"
   ]
  },
  {
   "cell_type": "code",
   "execution_count": 4,
   "metadata": {},
   "outputs": [
    {
     "name": "stdout",
     "output_type": "stream",
     "text": [
      "• I describe an optimal control view of adversarial machine learning, where the dynamical system is the machine learner, the input are adversarial actions, and the control costs are deﬁned by the adversary’s goals to do harm and be hard to detect. \n",
      "\n",
      "• The system to be controlled is called the plant, which is deﬁned by the system dynamics: where xt ∈ Xt is the state of the system, ut ∈ Ut is the control input, and Ut is the control constraint set. \n",
      "\n",
      "• In all cases, the adversary attempts to control the machine learning system, and the control costs reﬂect the adversary’s desire to do harm and be hard to detect. \n",
      "\n",
      "• The adversary’s running cost gt then measures the eﬀort in performing the action at step t. One limitation of the optimal control view is that the action cost is assumed to be additive over the steps. \n",
      "\n",
      "• The adversary intercepts the environmental reward rIt in each iteration, and may choose to modify (“shape”) the reward into with some ut ∈ R before sending the modiﬁed reward to the learner. \n",
      "\n"
     ]
    }
   ],
   "source": [
    "summary = summarisepdfdocument(text)\n",
    "for i in summary:\n",
    "     print(i, \"\\n\")"
   ]
  },
  {
   "cell_type": "code",
   "execution_count": null,
   "metadata": {},
   "outputs": [],
   "source": []
  }
 ],
 "metadata": {
  "kernelspec": {
   "display_name": "Python 3",
   "language": "python",
   "name": "python3"
  },
  "language_info": {
   "codemirror_mode": {
    "name": "ipython",
    "version": 3
   },
   "file_extension": ".py",
   "mimetype": "text/x-python",
   "name": "python",
   "nbconvert_exporter": "python",
   "pygments_lexer": "ipython3",
   "version": "3.7.6"
  }
 },
 "nbformat": 4,
 "nbformat_minor": 4
}
