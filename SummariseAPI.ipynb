{
 "cells": [
  {
   "cell_type": "code",
   "execution_count": 156,
   "metadata": {},
   "outputs": [],
   "source": [
    "#import packages\n",
    "import io\n",
    "import string\n",
    "import requests\n",
    "import re\n",
    "from pdfminer.pdfinterp import PDFResourceManager, PDFPageInterpreter\n",
    "from pdfminer.converter import TextConverter\n",
    "from pdfminer.layout import LAParams\n",
    "from pdfminer.pdfpage import PDFPage\n",
    "from textblob import TextBlob\n",
    "from sumy.parsers.plaintext import PlaintextParser\n",
    "from sumy.nlp.tokenizers import Tokenizer\n",
    "from sumy.summarizers.text_rank import TextRankSummarizer"
   ]
  },
  {
   "cell_type": "code",
   "execution_count": 157,
   "metadata": {},
   "outputs": [],
   "source": [
    "# get bytes stream of web pdf\n",
    "#pdfurl = \"https://arxiv.org/pdf/2001.09903.pdf\"\n",
    "pdfurl = \"http://arxiv.org/pdf/1811.04422v1\"\n",
    "#pdfurl = \"https://arxiv.org/pdf/2001.09956\"\n",
    "#pdfurl = \"https://arxiv.org/pdf/2001.09412.pdf\"\n",
    "#pdfurl = \"http://arxiv.org/pdf/1411.6753v1\"\n",
    "#pdfurl = \"https://arxiv.org/pdf/2001.10393.pdf\"\n",
    "r = requests.get(pdfurl, stream=True)\n",
    "f = io.BytesIO(r.content)"
   ]
  },
  {
   "cell_type": "code",
   "execution_count": 158,
   "metadata": {},
   "outputs": [],
   "source": [
    "# set up pdfminer\n",
    "rsrcmgr = PDFResourceManager()\n",
    "retstr = io.StringIO()\n",
    "codec = 'utf-8'\n",
    "laparams = LAParams()\n",
    "device = TextConverter(rsrcmgr, retstr, codec=codec, laparams=laparams)\n",
    "interpreter = PDFPageInterpreter(rsrcmgr, device)\n",
    "pagenos=set()"
   ]
  },
  {
   "cell_type": "code",
   "execution_count": 159,
   "metadata": {},
   "outputs": [
    {
     "name": "stdout",
     "output_type": "stream",
     "text": [
      "1\n",
      "2\n",
      "3\n",
      "4\n",
      "5\n",
      "6\n",
      "7\n",
      "8\n"
     ]
    }
   ],
   "source": [
    "# extract abstract\n",
    "content = []\n",
    "cnt = 1\n",
    "for page in PDFPage.get_pages(fp=f, pagenos=pagenos, maxpages=0, caching=True, check_extractable=True):\n",
    "    interpreter.process_page(page)\n",
    "    print(cnt)\n",
    "    cnt += 1\n",
    "\n",
    "text = retstr.getvalue()\n",
    "content.append(text)\n",
    "# close apps\n",
    "device.close()\n",
    "retstr.close()"
   ]
  },
  {
   "cell_type": "code",
   "execution_count": 160,
   "metadata": {},
   "outputs": [],
   "source": [
    "text = []\n",
    "splits = content[0].split(\"\\n\\n\")\n",
    "for chunk in splits:\n",
    "    # if ocr has picked up annoying numbers along side with many \"\\n\"\n",
    "    if chunk.count(\"\\n\") >= 3:\n",
    "        dummy = chunk.split(\"\\n\")\n",
    "        dummy_cnt = 0\n",
    "        for d in dummy:\n",
    "            if len(d)>1:\n",
    "                dummy_cnt += 1\n",
    "        if dummy_cnt > 2:\n",
    "            text.append(chunk)\n",
    "    else:\n",
    "        text.append(chunk)"
   ]
  },
  {
   "cell_type": "code",
   "execution_count": 161,
   "metadata": {},
   "outputs": [],
   "source": [
    "# identify abstract\n",
    "cnt = 0\n",
    "while True:\n",
    "    if \"abstract\" in text[cnt].lower():\n",
    "        if len(text[cnt].split()) < 2:\n",
    "            cnt += 1\n",
    "            break\n",
    "        else:\n",
    "            cnt -= 1\n",
    "    cnt += 1\n",
    "\n",
    "text = text[cnt:]"
   ]
  },
  {
   "cell_type": "code",
   "execution_count": 162,
   "metadata": {},
   "outputs": [],
   "source": [
    "# identify references\n",
    "cnt = 0\n",
    "while True:\n",
    "    if \"References\" in text[cnt] or \"Appendix\" in text[cnt] or \"Bibliography\" in text[cnt]:\n",
    "        if len(text[cnt].split()) < 3:\n",
    "            break\n",
    "    cnt += 1\n",
    "\n",
    "text = text[:cnt]"
   ]
  },
  {
   "cell_type": "code",
   "execution_count": 163,
   "metadata": {},
   "outputs": [],
   "source": [
    "# remove equation number references\n",
    "clean1 = []\n",
    "for t in text:\n",
    "    if len(t.split()) == 1:\n",
    "        if re.match(\"^\\(\\d\\)\", t):\n",
    "            pass\n",
    "        if re.match(\"\\d\", t):\n",
    "            pass\n",
    "    elif len(t.split()) == 0:\n",
    "        pass\n",
    "    else:\n",
    "        clean1.append(t)"
   ]
  },
  {
   "cell_type": "code",
   "execution_count": 164,
   "metadata": {},
   "outputs": [],
   "source": [
    "# remove headers\n",
    "clean2 = []\n",
    "cnt = 0\n",
    "while cnt < len(clean1):\n",
    "    if len(clean1[cnt].split()) < 10:\n",
    "        dummy = re.sub(\"\\d\", \"\", clean1[cnt])\n",
    "        dummy = dummy.strip()\n",
    "        if dummy[-1] not in string.punctuation:\n",
    "            dummy2 = re.sub(\"\\d\", \"\", clean1[cnt+1])\n",
    "            dummy2 = dummy2.strip()\n",
    "            if dummy2[0].isupper():\n",
    "                pass\n",
    "            else:\n",
    "                clean2.append(clean1[cnt])\n",
    "        else:\n",
    "            clean2.append(clean1[cnt])\n",
    "    else:\n",
    "        clean2.append(clean1[cnt])\n",
    "    cnt += 1"
   ]
  },
  {
   "cell_type": "code",
   "execution_count": 165,
   "metadata": {},
   "outputs": [],
   "source": [
    "# remove citations\n",
    "clean3 = \" \".join(c for c in clean2)\n",
    "clean3 = re.sub(\"^\\[\\d\\]\", \"\", clean3)\n",
    "clean3 = re.sub(\"^\\[\\d\\d\\]\", \"\", clean3)\n",
    "clean3 = re.sub(\"^\\[\\d\\d\\]\", \"\", clean3)\n",
    "clean3 = re.sub(\"\\n\", \" \", clean3)"
   ]
  },
  {
   "cell_type": "code",
   "execution_count": 169,
   "metadata": {},
   "outputs": [
    {
     "name": "stdout",
     "output_type": "stream",
     "text": [
      "I describe an optimal control view of adversarial machine learning, where the dynamical system is the machine learner, the input are adversarial actions, and the control costs are deﬁned by the adversary’s goals to do harm and be hard to detect. \n",
      "\n",
      "The system to be controlled is called the plant, which is deﬁned by the system dynamics: where xt ∈ Xt is the state of the system, ut ∈ Ut is the control input, and Ut is the control constraint set. \n",
      "\n",
      "The quality of control is speciﬁed by the running cost: which deﬁnes the step-by-step control cost, and the terminal cost for ﬁnite horizon: xt+1 = f (xt, ut) gt(xt, ut) gT (xT ) which deﬁnes the quality of the ﬁnal state. \n",
      "\n",
      "In all cases, the adversary attempts to control the machine learning system, and the control costs reﬂect the adversary’s desire to do harm and be hard to detect. \n",
      "\n",
      "• The control u0 is a whole training set, for instance u0 = {(xi, yi)}1:n. • The control constraint set U0 consists of training sets available to the adversary; if the adversary can arbitrary modify a training set for supervised learning (including changing features and labels, inserting and deleting items), this could be U0 = ∪∞ n=0(X × Y)n, namely all training sets of all sizes. \n",
      "\n",
      "The adversary’s running cost gt then measures the eﬀort in performing the action at step t. One limitation of the optimal control view is that the action cost is assumed to be additive over the steps. \n",
      "\n",
      "• The defender’s running cost gt(ht, ut) can simply be 1 to reﬂect the desire for less eﬀort (the running • The defender’s terminal cost gT (hT ) penalizes small margin of the ﬁnal model hT with respect to the cost sums up to k). \n",
      "\n",
      "For example, the (α, ψ)-Upper Conﬁdence Bound (UCB) strategy chooses the arm Ti(t − 1)(cid:19) where Ti(t − 1) is the number of times arm i has been pulled up to time t − 1, ˆµi,Ti(t−1) is the empirical mean of arm i so far, and ψ∗ is the dual of a convex function ψ. \n",
      "\n",
      "It should be noted that the adversary’s goal may not be the exact opposite of the learner’s goal: the target arm i∗ is not necessarily the one with the worst mean reward, and the adversary may not seek pseudo-regret maximization. \n",
      "\n",
      "There are a number of potential beneﬁts in taking the optimal control view: • It oﬀers a uniﬁed conceptual framework for adversarial machine learning; • The optimal control literature provides eﬃcient solutions when the dynamics f is known and one can take the continuous limit to solve the diﬀerential equations [15]; • Reinforcement learning, either model-based with coarse system identiﬁcation or model-free policy it- eration, allows approximate optimal control when f is unknown, as long as the adversary can probe the dynamics [8, 9]; • A generic defense strategy may be to limit the controllability the adversary has over the learner. \n",
      "\n"
     ]
    }
   ],
   "source": [
    "# Factual Merge\n",
    "key_points = 10\n",
    "summary = []\n",
    "blob = TextBlob(clean3)\n",
    "sentences = [str(sentence) for sentence in blob.sentences]\n",
    "for sentence in sentences:\n",
    "    if sentence.find(\":\", 0, 1) != -1 and sentence.find(\"-\", 1, 3) != -1:\n",
    "        pass\n",
    "    else:\n",
    "        if len(sentence)>2:\n",
    "            summary.append(sentence)\n",
    "            #factual_summary.append(sentence+\".\")\n",
    "parser = PlaintextParser.from_string(' '.join(str(sentence) for sentence in summary), Tokenizer(\"english\"))\n",
    "summarizer = TextRankSummarizer()\n",
    "doc_summary = summarizer(parser.document, key_points)\n",
    "doc_summary = [str(sentence) for sentence in doc_summary]\n",
    "for sent in doc_summary:\n",
    "    print(sent, \"\\n\")"
   ]
  },
  {
   "cell_type": "code",
   "execution_count": null,
   "metadata": {},
   "outputs": [],
   "source": []
  }
 ],
 "metadata": {
  "kernelspec": {
   "display_name": "Python 3",
   "language": "python",
   "name": "python3"
  },
  "language_info": {
   "codemirror_mode": {
    "name": "ipython",
    "version": 3
   },
   "file_extension": ".py",
   "mimetype": "text/x-python",
   "name": "python",
   "nbconvert_exporter": "python",
   "pygments_lexer": "ipython3",
   "version": "3.7.6"
  }
 },
 "nbformat": 4,
 "nbformat_minor": 4
}
