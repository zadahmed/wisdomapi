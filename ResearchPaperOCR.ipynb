{
 "cells": [
  {
   "cell_type": "code",
   "execution_count": 1,
   "metadata": {},
   "outputs": [],
   "source": [
    "import textract\n",
    "import string\n",
    "import re"
   ]
  },
  {
   "cell_type": "code",
   "execution_count": 52,
   "metadata": {},
   "outputs": [],
   "source": [
    "text = textract.process(\"test4.pdf\")"
   ]
  },
  {
   "cell_type": "code",
   "execution_count": 53,
   "metadata": {},
   "outputs": [],
   "source": [
    "text = text.decode('utf-8')"
   ]
  },
  {
   "cell_type": "code",
   "execution_count": 54,
   "metadata": {},
   "outputs": [],
   "source": [
    "text = text.split(\"\\n\")"
   ]
  },
  {
   "cell_type": "code",
   "execution_count": 55,
   "metadata": {},
   "outputs": [],
   "source": [
    "abstract = []\n",
    "cnt = 0\n",
    "while cnt < len(text):\n",
    "    if \"abstract\" in text[cnt].lower():\n",
    "        if len(text[cnt+1]) == 0:\n",
    "            cnt += 2\n",
    "        elif len(text[cnt].split()) < 3:\n",
    "            cnt +=1\n",
    "        # for finding the end of the extract, usually we have '' and then a new title\n",
    "        elif len(text[cnt]) == 0 and len(text[cnt+1].split()) < 3:\n",
    "            break\n",
    "        while len(text[cnt]) > 0:\n",
    "            abstract.append(text[cnt])\n",
    "            cnt += 1\n",
    "        break\n",
    "    else:\n",
    "        cnt += 1"
   ]
  },
  {
   "cell_type": "code",
   "execution_count": 56,
   "metadata": {},
   "outputs": [
    {
     "data": {
      "text/plain": [
       "'Does progress in simulation translate to progress in robotics? Speciﬁcally, if method A outperforms method B in simulation, how likely is the trend to hold in reality on a robot?'"
      ]
     },
     "execution_count": 56,
     "metadata": {},
     "output_type": "execute_result"
    }
   ],
   "source": [
    "abstract_string = \"\"\n",
    "\n",
    "for a in abstract:\n",
    "    if a[-1] not in string.punctuation:\n",
    "        abstract_string += a+\" \"\n",
    "    elif a[-1] == \"-\" or a[-1] == \"-\":\n",
    "        abstract_string += a[:-1]\n",
    "    elif a[-1] in string.punctuation:\n",
    "        abstract_string += a+\" \"\n",
    "abstract_string = abstract_string.strip()\n",
    "\n",
    "abstract_string"
   ]
  },
  {
   "cell_type": "code",
   "execution_count": 57,
   "metadata": {},
   "outputs": [],
   "source": [
    "conclusion = []\n",
    "cnt = 0\n",
    "while cnt < len(text):\n",
    "    if \"conclusion\" in text[cnt].lower() and len(text[cnt].split()) < 10:\n",
    "        # skip over blank lines\n",
    "        if len(text[cnt+1]) == 0:\n",
    "            cnt += 2\n",
    "        # otherwise move to next line\n",
    "        else:\n",
    "            cnt +=1\n",
    "        # cleaning loop\n",
    "        while True:\n",
    "            # if there is text\n",
    "            if len(text[cnt]) > 0:\n",
    "                # if the next sentence is empty\n",
    "                if len(text[cnt+1]) == 0:\n",
    "                    # if 2 ahead is a page number\n",
    "                    if len(text[cnt+2].split()) == 1:\n",
    "                        pass\n",
    "                    elif len(text[cnt].split()) == 1:\n",
    "                        pass\n",
    "                    # if 2 ahead is a title\n",
    "                    elif len(text[cnt+2].split()) < 5:\n",
    "                        conclusion.append(text[cnt])\n",
    "                        break\n",
    "                # if the sentence is not a page number\n",
    "                if len(text[cnt]) > 3:\n",
    "                    if text[cnt].isupper():\n",
    "                        break\n",
    "                    elif \"references\" in text[cnt].lower().split()[:5]:\n",
    "                        break\n",
    "                    elif \"acknowledgement\" in text[cnt].lower():\n",
    "                        break\n",
    "                    conclusion.append(text[cnt])\n",
    "            cnt+=1\n",
    "        break\n",
    "    else:\n",
    "        cnt += 1"
   ]
  },
  {
   "cell_type": "code",
   "execution_count": 58,
   "metadata": {},
   "outputs": [
    {
     "data": {
      "text/plain": [
       "'We introduce the Habitat-PyRobot Bridge (HaPy) library which allows for seamless deployment of visual navigation models across simulation (Habitat) and reality (LoCoBot). Using the Matterport scanning pipeline, Habitat stack, HaPy library, and LoCoBot we benchmark the correlation between reality and simulation performance and introduce the SRCC metric. We ﬁnd that naive simulation parameters lead to low correlation between performance in simulation and performance in reality. However, we demonstrate that the SRCC metric can be used to optimize simulation parameters and obtain high predictivity of real world performance. We hope'"
      ]
     },
     "execution_count": 58,
     "metadata": {},
     "output_type": "execute_result"
    }
   ],
   "source": [
    "conclusion_string = \"\"\n",
    "\n",
    "for c in conclusion:\n",
    "    if \"\\x0c\" in c:\n",
    "        text = c.split(\"\\x0c\")[1:]\n",
    "        text = \" \".join(t for t in text)\n",
    "        conclusion_string += text+\" \"\n",
    "    elif c[-1] not in string.punctuation:\n",
    "        conclusion_string += c+\" \"\n",
    "    elif c[-1] == \"-\" or c[-1] == \"-\":\n",
    "        conclusion_string += c[:-1]\n",
    "    elif c[-1] in string.punctuation:\n",
    "        conclusion_string += c+\" \"\n",
    "        \n",
    "# filter out sentences that have 'Figure' in them\n",
    "conclusion_string2 = re.sub(\"Figure\", \".|$|\", conclusion_string)\n",
    "conclusion_string2 = re.sub(\"Fig.\", \".|$|\", conclusion_string2)\n",
    "conclusion_string2 = re.sub(\"Fig\", \".|$|\", conclusion_string2)\n",
    "conclusion_string2 = re.sub(\"\\d[.]\", \"\", conclusion_string2)\n",
    "conclusion_string2 = conclusion_string2.split(\".|\")\n",
    "\n",
    "conclusion_string_final = \"\"\n",
    "\n",
    "for c in conclusion_string2:\n",
    "    if \"$|\" in c:\n",
    "        if \". \" in c:\n",
    "            text = c.split(\". \")\n",
    "            if text[1][0].islower():\n",
    "                new_text = \". \".join(t for t in text[1:]).strip()\n",
    "                conclusion_string_final += new_text+\" \"\n",
    "        else:\n",
    "            pass\n",
    "    else:\n",
    "        conclusion_string_final += c\n",
    "\n",
    "conclusion_string_final = conclusion_string_final.strip()\n",
    "conclusion_string_final"
   ]
  },
  {
   "cell_type": "code",
   "execution_count": 59,
   "metadata": {},
   "outputs": [
    {
     "data": {
      "text/plain": [
       "['$| 9 shows this optimized SRCC, for success rate (right) and SPL (left)',\n",
       " 'We see a remarkable alignment in the SPL scatter-plot (left) – nearly all models lie close to the diagonal, suggesting that we fairly accurately predict how a model is going to perform on the robot by testing in simulation',\n",
       " 'Recall that the former takes 45 hours hinav Gupta, and Ali Farhadi',\n",
       " 'AI2-THOR: An Interactive 3D Environment for Visual AI',\n",
       " 'arXiv, 201 2, 3, 8 [9] Fereshteh Sadeghi and Sergey Levine',\n",
       " 'CAD2RL: real singleimage ﬂight without a single real image',\n",
       " 'In Robotics: Science and Systems XIII, Massachusetts Institute of Technology, Cambridge, Massachusetts, USA, July 12-16, 2017, 201 2, [10] Manolis Savva, Angel X',\n",
       " 'Chang, Alexey Dosovitskiy, Thomas Funkhouser, and Vladlen Koltun',\n",
       " 'MINOS: Multimodal indoor simulator for navigation in complex environments',\n",
       " 'arXiv:17103931, 201 2, 8 [11] Peter Anderson, Qi Wu, Damien Teney, Jake Bruce, Mark Johnson, Niko Sünderhauf, Ian Reid, Stephen Gould, and Anton van den Hengel',\n",
       " 'Vision-and-language navigation: Interpreting visually-grounded navigation instructions in real environments',\n",
       " 'In Proceedings of the IEEE Conference on Computer Vision and Pattern Recognition, pages 3674–3683, 201 2, 7 [12] Abhishek Das, Samyak Datta, Georgia Gkioxari, Stefan Lee, Devi Parikh, and Dhruv Batra',\n",
       " 'Embodied Question Answering',\n",
       " 'In Proceedings of the IEEE Conference on Computer Vision and Pattern Recognition (CVPR), 201 2 [13] Visual Learning and Embodied Agents in Simulation Environments @ ECCV 201 https://eccv18-vlease',\n",
       " 'github.io/',\n",
       " '2 [14] Habitat Challenge 2019 @ Habitat Embodied Agents Workshop',\n",
       " 'CVPR 201 https://aihabitat.org/ challenge/2019/',\n",
       " '2, 4, 5, 7, 13 [15] CARLA autonomous driving challenge @ CVPR 201 ']"
      ]
     },
     "execution_count": 59,
     "metadata": {},
     "output_type": "execute_result"
    }
   ],
   "source": [
    "text"
   ]
  },
  {
   "cell_type": "code",
   "execution_count": null,
   "metadata": {},
   "outputs": [],
   "source": []
  },
  {
   "cell_type": "code",
   "execution_count": null,
   "metadata": {},
   "outputs": [],
   "source": []
  },
  {
   "cell_type": "code",
   "execution_count": null,
   "metadata": {},
   "outputs": [],
   "source": []
  },
  {
   "cell_type": "code",
   "execution_count": null,
   "metadata": {},
   "outputs": [],
   "source": []
  },
  {
   "cell_type": "code",
   "execution_count": null,
   "metadata": {},
   "outputs": [],
   "source": [
    "cnt = 0\n",
    "while cnt < len(text):\n",
    "    if \"conclusion\" in text[cnt].lower() and len(text[cnt].split()) < 10:\n",
    "        if len(text[cnt+1]) == 0:\n",
    "            cnt += 2\n",
    "        else:\n",
    "            cnt +=1\n",
    "        while True:\n",
    "            if len(text[cnt]) > 0:\n",
    "                print(text[cnt])\n",
    "                cnt += 1\n",
    "            elif len(text[cnt+1]) < 3:\n",
    "                cnt += 3\n",
    "            # for finding the end of the extract, usually we have '' and then a new title\n",
    "            elif len(text[cnt]) == 0 and len(text[cnt+1].split()) < 3:\n",
    "                break\n",
    "            else:\n",
    "                break\n",
    "        break\n",
    "    else:\n",
    "        cnt += 1"
   ]
  }
 ],
 "metadata": {
  "kernelspec": {
   "display_name": "Python 3",
   "language": "python",
   "name": "python3"
  },
  "language_info": {
   "codemirror_mode": {
    "name": "ipython",
    "version": 3
   },
   "file_extension": ".py",
   "mimetype": "text/x-python",
   "name": "python",
   "nbconvert_exporter": "python",
   "pygments_lexer": "ipython3",
   "version": "3.7.5"
  }
 },
 "nbformat": 4,
 "nbformat_minor": 4
}
