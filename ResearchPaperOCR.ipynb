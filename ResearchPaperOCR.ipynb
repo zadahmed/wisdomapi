{
 "cells": [
  {
   "cell_type": "code",
   "execution_count": 1,
   "metadata": {},
   "outputs": [],
   "source": [
    "from wand.image import Image\n",
    "from PIL import Image as PI\n",
    "import pyocr\n",
    "import pyocr.builders\n",
    "import io"
   ]
  },
  {
   "cell_type": "code",
   "execution_count": 2,
   "metadata": {},
   "outputs": [],
   "source": [
    "tool = pyocr.get_available_tools()[0]\n",
    "lang = tool.get_available_languages()[0]"
   ]
  },
  {
   "cell_type": "code",
   "execution_count": 3,
   "metadata": {},
   "outputs": [],
   "source": [
    "req_image = []\n",
    "final_text = []"
   ]
  },
  {
   "cell_type": "code",
   "execution_count": 4,
   "metadata": {},
   "outputs": [],
   "source": [
    "image_pdf = Image(filename=\"test.pdf\", resolution=300)\n",
    "image_jpeg = image_pdf.convert('jpeg')"
   ]
  },
  {
   "cell_type": "code",
   "execution_count": 5,
   "metadata": {},
   "outputs": [],
   "source": [
    "for img in image_jpeg.sequence:\n",
    "    img_page = Image(image=img)\n",
    "    req_image.append(img_page.make_blob('jpeg'))"
   ]
  },
  {
   "cell_type": "code",
   "execution_count": 6,
   "metadata": {},
   "outputs": [],
   "source": [
    "for img in req_image: \n",
    "    txt = tool.image_to_string(PI.open(io.BytesIO(img)),\n",
    "                               lang=lang,\n",
    "                               builder=pyocr.builders.TextBuilder())\n",
    "    final_text.append(txt)"
   ]
  },
  {
   "cell_type": "code",
   "execution_count": 45,
   "metadata": {},
   "outputs": [],
   "source": [
    "abstract = []\n",
    "cnt = 0\n",
    "while cnt < len(final_text):\n",
    "    text = final_text[cnt]\n",
    "    if \"abstract\" in text.lower():\n",
    "        text = text.split(\"\\n\")\n",
    "        text = [t for t in text if len(t) > 0]\n",
    "        abstract.append(text)\n",
    "    cnt += 1"
   ]
  },
  {
   "cell_type": "code",
   "execution_count": 52,
   "metadata": {},
   "outputs": [],
   "source": [
    "cnt = 0\n",
    "final_abstract = []\n",
    "for i in abstract:\n",
    "    for j in i:\n",
    "        if \"Abstract\" in j:\n",
    "            final_abstract.append(i)\n",
    "    cnt+=1"
   ]
  },
  {
   "cell_type": "code",
   "execution_count": 32,
   "metadata": {},
   "outputs": [],
   "source": [
    "if \"abstract\" in final_text[1].lower():\n",
    "    print(\"yes\")"
   ]
  },
  {
   "cell_type": "markdown",
   "metadata": {},
   "source": [
    "***"
   ]
  },
  {
   "cell_type": "code",
   "execution_count": 136,
   "metadata": {},
   "outputs": [],
   "source": [
    "import textract\n",
    "text = textract.process(\"test3.pdf\")"
   ]
  },
  {
   "cell_type": "code",
   "execution_count": 137,
   "metadata": {},
   "outputs": [],
   "source": [
    "text = text.decode('utf-8')"
   ]
  },
  {
   "cell_type": "code",
   "execution_count": 138,
   "metadata": {},
   "outputs": [],
   "source": [
    "text = text.split(\"\\n\")"
   ]
  },
  {
   "cell_type": "code",
   "execution_count": 139,
   "metadata": {},
   "outputs": [
    {
     "name": "stdout",
     "output_type": "stream",
     "text": [
      "The ability to inferring latent psychological traits from human behavior is key to\n",
      "developing personalized human-interacting machine learning systems. Approaches\n",
      "to infer such traits range from surveys to manually-constructed experiments and\n",
      "games. However, these traditional games are limited because they are typically\n",
      "designed based on heuristics. In this paper, we formulate the task of designing\n",
      "behavior diagnostic games that elicit distinguishable behavior as a mutual informa-\n",
      "tion maximization problem, which can be solved by optimizing a variational lower\n",
      "bound. Our framework is instantiated by using prospect theory to model varying\n",
      "player traits, and Markov Decision Processes to parameterize the games. We vali-\n",
      "date our approach empirically, showing that our designed games can successfully\n",
      "distinguish among players with different traits, outperforming manually-designed\n",
      "ones by a large margin.\n"
     ]
    }
   ],
   "source": [
    "cnt = 0\n",
    "while cnt < len(text):\n",
    "    if \"abstract\" in text[cnt].lower():\n",
    "        if len(text[cnt+1]) == 0:\n",
    "            cnt += 2\n",
    "        elif len(text[cnt].split()) < 3:\n",
    "            cnt +=1\n",
    "        # for finding the end of the extract, usually we have '' and then a new title\n",
    "        elif len(text[cnt]) == 0 and len(text[cnt+1].split()) < 3:\n",
    "            break\n",
    "        while len(text[cnt]) > 0:\n",
    "            print(text[cnt])\n",
    "            cnt += 1\n",
    "        break\n",
    "    else:\n",
    "        cnt += 1"
   ]
  },
  {
   "cell_type": "code",
   "execution_count": 140,
   "metadata": {},
   "outputs": [
    {
     "name": "stdout",
     "output_type": "stream",
     "text": [
      "We consider designing games for the purpose of distinguishing among different types of players. We\n",
      "propose a general framework and use mutual information to quantify the effectiveness. Comparing\n",
      "with games designed by heuristics, our optimization-based designs elicit more distinctive behaviors.\n",
      "Loss-NeutralGain-SeekingLoss-AverseLoss-NeutralGain-SeekingLoss-Averse\f",
      "Our behavior-diagnostic game design framework can be applied to various applications, with player\n",
      "space, game space and interaction model instantiated by domain-speciﬁc ones. For example, [22]\n",
      "studies how to generate games for the purpose of differentiating players using player performance\n",
      "instead of behavior trajectory as the observation space. In addition, we have considered the case\n",
      "when the player traits inferred from their game playing behavior are stationary. However, as pointed\n",
      "out by [26, 27, 4], there can be complex relationships between players’ in-game and outside-game\n",
      "personality traits. In future work, we look forward to addressing this distribution shift.\n"
     ]
    }
   ],
   "source": [
    "cnt = 0\n",
    "while cnt < len(text):\n",
    "    if \"conclusion\" in text[cnt].lower() and len(text[cnt].split()) < 10:\n",
    "        if len(text[cnt+1]) == 0:\n",
    "            cnt += 2\n",
    "        else:\n",
    "            cnt +=1\n",
    "        while True:\n",
    "            if len(text[cnt]) > 0:\n",
    "                print(text[cnt])\n",
    "                cnt += 1\n",
    "            elif len(text[cnt+1]) < 3:\n",
    "                cnt += 3\n",
    "            # for finding the end of the extract, usually we have '' and then a new title\n",
    "            elif len(text[cnt]) == 0 and len(text[cnt+1].split()) < 3:\n",
    "                break\n",
    "            else:\n",
    "                break\n",
    "        break\n",
    "    else:\n",
    "        cnt += 1"
   ]
  },
  {
   "cell_type": "code",
   "execution_count": 141,
   "metadata": {},
   "outputs": [
    {
     "name": "stdout",
     "output_type": "stream",
     "text": [
      "We consider designing games for the purpose of distinguishing among different types of players. We\n",
      "propose a general framework and use mutual information to quantify the effectiveness. Comparing\n",
      "with games designed by heuristics, our optimization-based designs elicit more distinctive behaviors.\n",
      "Loss-NeutralGain-SeekingLoss-AverseLoss-NeutralGain-SeekingLoss-Averse\f",
      "Our behavior-diagnostic game design framework can be applied to various applications, with player\n",
      "space, game space and interaction model instantiated by domain-speciﬁc ones. For example, [22]\n",
      "studies how to generate games for the purpose of differentiating players using player performance\n",
      "instead of behavior trajectory as the observation space. In addition, we have considered the case\n",
      "when the player traits inferred from their game playing behavior are stationary. However, as pointed\n",
      "out by [26, 27, 4], there can be complex relationships between players’ in-game and outside-game\n",
      "personality traits. In future work, we look forward to addressing this distribution shift.\n"
     ]
    }
   ],
   "source": [
    "cnt = 0\n",
    "while cnt < len(text):\n",
    "    if \"conclusion\" in text[cnt].lower() and len(text[cnt].split()) < 10:\n",
    "        # skip over blank lines\n",
    "        if len(text[cnt+1]) == 0:\n",
    "            cnt += 2\n",
    "        # otherwise move to next line\n",
    "        else:\n",
    "            cnt +=1\n",
    "        # cleaning loop\n",
    "        while True:\n",
    "            # if there is text\n",
    "            if len(text[cnt]) > 0:\n",
    "                # if the next sentence is empty\n",
    "                if len(text[cnt+1]) == 0:\n",
    "                    # if 2 ahead is a page number\n",
    "                    if len(text[cnt+2].split()) == 1:\n",
    "                        pass\n",
    "                    elif len(text[cnt].split()) == 1:\n",
    "                        pass\n",
    "                    # if 2 ahead is a title\n",
    "                    elif len(text[cnt+2].split()) < 5:\n",
    "                        print(text[cnt])\n",
    "                        break\n",
    "                # if the sentence is not a page number\n",
    "                if len(text[cnt]) > 3:\n",
    "                    if text[cnt].isupper():\n",
    "                        break\n",
    "                    elif \"references\" in text[cnt].lower().split()[:5]:\n",
    "                        break\n",
    "                    elif \"acknowledgement\" in text[cnt].lower():\n",
    "                        break\n",
    "                    print(text[cnt])\n",
    "            cnt+=1\n",
    "        break\n",
    "    else:\n",
    "        cnt += 1"
   ]
  },
  {
   "cell_type": "code",
   "execution_count": null,
   "metadata": {},
   "outputs": [],
   "source": []
  }
 ],
 "metadata": {
  "kernelspec": {
   "display_name": "Python 3",
   "language": "python",
   "name": "python3"
  },
  "language_info": {
   "codemirror_mode": {
    "name": "ipython",
    "version": 3
   },
   "file_extension": ".py",
   "mimetype": "text/x-python",
   "name": "python",
   "nbconvert_exporter": "python",
   "pygments_lexer": "ipython3",
   "version": "3.7.5"
  }
 },
 "nbformat": 4,
 "nbformat_minor": 4
}
